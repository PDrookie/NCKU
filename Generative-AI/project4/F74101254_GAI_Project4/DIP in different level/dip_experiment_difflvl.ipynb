{
 "cells": [
  {
   "cell_type": "markdown",
   "id": "07042104",
   "metadata": {
    "id": "VPxR_evgNg6O",
    "papermill": {
     "duration": 0.006363,
     "end_time": "2024-06-02T07:16:57.923608",
     "exception": false,
     "start_time": "2024-06-02T07:16:57.917245",
     "status": "completed"
    },
    "tags": []
   },
   "source": [
    "## Env Creative"
   ]
  },
  {
   "cell_type": "code",
   "execution_count": 1,
   "id": "5ffd6fcc",
   "metadata": {
    "execution": {
     "iopub.execute_input": "2024-06-02T07:16:57.936587Z",
     "iopub.status.busy": "2024-06-02T07:16:57.936264Z",
     "iopub.status.idle": "2024-06-02T07:17:03.461356Z",
     "shell.execute_reply": "2024-06-02T07:17:03.460432Z"
    },
    "id": "78BPVkAWNbrx",
    "papermill": {
     "duration": 5.534091,
     "end_time": "2024-06-02T07:17:03.463643",
     "exception": false,
     "start_time": "2024-06-02T07:16:57.929552",
     "status": "completed"
    },
    "tags": []
   },
   "outputs": [],
   "source": [
    "import numpy as np\n",
    "import torch\n",
    "import torch.nn as nn\n",
    "import torch.optim as optim\n",
    "from skimage.metrics import peak_signal_noise_ratio as psnr\n",
    "from skimage.metrics import structural_similarity as ssim\n",
    "from tqdm import tqdm\n",
    "import matplotlib.pyplot as plt\n",
    "import imageio.v2"
   ]
  },
  {
   "cell_type": "markdown",
   "id": "1e208929",
   "metadata": {
    "id": "CyPCpr--NjqQ",
    "papermill": {
     "duration": 0.006078,
     "end_time": "2024-06-02T07:17:03.476351",
     "exception": false,
     "start_time": "2024-06-02T07:17:03.470273",
     "status": "completed"
    },
    "tags": []
   },
   "source": [
    "## Function to add Gaussian noise to the image"
   ]
  },
  {
   "cell_type": "code",
   "execution_count": 2,
   "id": "d8ac104f",
   "metadata": {
    "execution": {
     "iopub.execute_input": "2024-06-02T07:17:03.490693Z",
     "iopub.status.busy": "2024-06-02T07:17:03.489709Z",
     "iopub.status.idle": "2024-06-02T07:17:03.494934Z",
     "shell.execute_reply": "2024-06-02T07:17:03.494040Z"
    },
    "id": "fjQ3PlXbNorx",
    "papermill": {
     "duration": 0.014533,
     "end_time": "2024-06-02T07:17:03.497010",
     "exception": false,
     "start_time": "2024-06-02T07:17:03.482477",
     "status": "completed"
    },
    "tags": []
   },
   "outputs": [],
   "source": [
    "def add_noise(img, noise_level):\n",
    "    noise = np.random.normal(0, noise_level, img.shape)\n",
    "    noisy_img = img + noise\n",
    "    return np.clip(noisy_img, 0, 1)"
   ]
  },
  {
   "cell_type": "markdown",
   "id": "7f0cb43d",
   "metadata": {
    "id": "tDlzk0CuNpiI",
    "papermill": {
     "duration": 0.005747,
     "end_time": "2024-06-02T07:17:03.508753",
     "exception": false,
     "start_time": "2024-06-02T07:17:03.503006",
     "status": "completed"
    },
    "tags": []
   },
   "source": [
    "## Define the DIP model"
   ]
  },
  {
   "cell_type": "code",
   "execution_count": 3,
   "id": "02105eb3",
   "metadata": {
    "execution": {
     "iopub.execute_input": "2024-06-02T07:17:03.521770Z",
     "iopub.status.busy": "2024-06-02T07:17:03.521505Z",
     "iopub.status.idle": "2024-06-02T07:17:03.528228Z",
     "shell.execute_reply": "2024-06-02T07:17:03.527349Z"
    },
    "id": "QtS8wxjeNuuI",
    "papermill": {
     "duration": 0.015585,
     "end_time": "2024-06-02T07:17:03.530198",
     "exception": false,
     "start_time": "2024-06-02T07:17:03.514613",
     "status": "completed"
    },
    "tags": []
   },
   "outputs": [],
   "source": [
    "class DIPModel(nn.Module):\n",
    "    def __init__(self):\n",
    "        super(DIPModel, self).__init__()\n",
    "        self.conv1 = nn.Conv2d(3, 64, kernel_size=3, padding=1)\n",
    "        self.conv2 = nn.Conv2d(64, 64, kernel_size=3, padding=1)\n",
    "        self.conv3 = nn.Conv2d(64, 3, kernel_size=3, padding=1)\n",
    "        self.relu = nn.ReLU()\n",
    "\n",
    "    def forward(self, x):\n",
    "        x = self.relu(self.conv1(x))\n",
    "        x = self.relu(self.conv2(x))\n",
    "        x = self.conv3(x)\n",
    "        return x"
   ]
  },
  {
   "cell_type": "markdown",
   "id": "acf57997",
   "metadata": {
    "id": "uyRwqMX4N3JR",
    "papermill": {
     "duration": 0.005769,
     "end_time": "2024-06-02T07:17:03.541837",
     "exception": false,
     "start_time": "2024-06-02T07:17:03.536068",
     "status": "completed"
    },
    "tags": []
   },
   "source": [
    "## Load target image"
   ]
  },
  {
   "cell_type": "code",
   "execution_count": 4,
   "id": "f35f6fad",
   "metadata": {
    "execution": {
     "iopub.execute_input": "2024-06-02T07:17:03.555259Z",
     "iopub.status.busy": "2024-06-02T07:17:03.554553Z",
     "iopub.status.idle": "2024-06-02T07:17:03.602966Z",
     "shell.execute_reply": "2024-06-02T07:17:03.602016Z"
    },
    "id": "xCIp2TnzN1n6",
    "papermill": {
     "duration": 0.057704,
     "end_time": "2024-06-02T07:17:03.605329",
     "exception": false,
     "start_time": "2024-06-02T07:17:03.547625",
     "status": "completed"
    },
    "tags": []
   },
   "outputs": [],
   "source": [
    "img_path = '/kaggle/input/lenna-test-image/Lenna_(test_image).png'\n",
    "target_img = imageio.v2.imread(img_path)\n",
    "\n",
    "if target_img.dtype == np.uint8:\n",
    "    target_img = target_img / 255.0"
   ]
  },
  {
   "cell_type": "code",
   "execution_count": 5,
   "id": "1e3b0c96",
   "metadata": {
    "execution": {
     "iopub.execute_input": "2024-06-02T07:17:03.619629Z",
     "iopub.status.busy": "2024-06-02T07:17:03.619287Z",
     "iopub.status.idle": "2024-06-02T07:17:03.913050Z",
     "shell.execute_reply": "2024-06-02T07:17:03.912033Z"
    },
    "id": "tVkeiLeopFiM",
    "outputId": "b80c2b2f-4c80-46bc-d803-d32a575c2e70",
    "papermill": {
     "duration": 0.303924,
     "end_time": "2024-06-02T07:17:03.915794",
     "exception": false,
     "start_time": "2024-06-02T07:17:03.611870",
     "status": "completed"
    },
    "tags": []
   },
   "outputs": [
    {
     "data": {
      "image/png": "[encoded data removed]",
      "text/plain": [
       "<Figure size 300x100 with 1 Axes>"
      ]
     },
     "metadata": {},
     "output_type": "display_data"
    }
   ],
   "source": [
    "plt.figure(figsize=(3, 1))\n",
    "plt.title(\"Original\")\n",
    "plt.imshow(np.clip(target_img, 0, 1))\n",
    "plt.show()"
   ]
  },
  {
   "cell_type": "markdown",
   "id": "e1db78e4",
   "metadata": {
    "id": "TpN0JIRROF2A",
    "papermill": {
     "duration": 0.006429,
     "end_time": "2024-06-02T07:17:03.929741",
     "exception": false,
     "start_time": "2024-06-02T07:17:03.923312",
     "status": "completed"
    },
    "tags": []
   },
   "source": [
    "## Define noise levels and schedule"
   ]
  },
  {
   "cell_type": "code",
   "execution_count": 6,
   "id": "7f7185dd",
   "metadata": {
    "execution": {
     "iopub.execute_input": "2024-06-02T07:17:03.945057Z",
     "iopub.status.busy": "2024-06-02T07:17:03.944184Z",
     "iopub.status.idle": "2024-06-02T07:17:03.949173Z",
     "shell.execute_reply": "2024-06-02T07:17:03.948243Z"
    },
    "id": "4qZXS6RlOFNI",
    "papermill": {
     "duration": 0.014761,
     "end_time": "2024-06-02T07:17:03.951247",
     "exception": false,
     "start_time": "2024-06-02T07:17:03.936486",
     "status": "completed"
    },
    "tags": []
   },
   "outputs": [],
   "source": [
    "schedules = {\n",
    "    \"gradual\": [0.1, 0.05, 0.025],\n",
    "    \"fast\": [0.1, 0.01, 0.001],\n",
    "    \"slow\": [0.1, 0.09, 0.08]\n",
    "}"
   ]
  },
  {
   "cell_type": "markdown",
   "id": "253d0edd",
   "metadata": {
    "id": "PxrTRBDSOKrp",
    "papermill": {
     "duration": 0.00649,
     "end_time": "2024-06-02T07:17:03.964341",
     "exception": false,
     "start_time": "2024-06-02T07:17:03.957851",
     "status": "completed"
    },
    "tags": []
   },
   "source": [
    "## Prepare for Training"
   ]
  },
  {
   "cell_type": "code",
   "execution_count": 7,
   "id": "23a5dc20",
   "metadata": {
    "execution": {
     "iopub.execute_input": "2024-06-02T07:17:03.980359Z",
     "iopub.status.busy": "2024-06-02T07:17:03.980080Z",
     "iopub.status.idle": "2024-06-02T07:17:04.065884Z",
     "shell.execute_reply": "2024-06-02T07:17:04.064821Z"
    },
    "id": "2C2Rwc-rOMtR",
    "outputId": "1cd1e5b3-d2a3-4027-e38a-98427542db70",
    "papermill": {
     "duration": 0.095662,
     "end_time": "2024-06-02T07:17:04.067922",
     "exception": false,
     "start_time": "2024-06-02T07:17:03.972260",
     "status": "completed"
    },
    "tags": []
   },
   "outputs": [
    {
     "name": "stdout",
     "output_type": "stream",
     "text": [
      "Using device: cuda\n"
     ]
    }
   ],
   "source": [
    "device = torch.device(\"cuda\" if torch.cuda.is_available() else \"cpu\")\n",
    "print(f\"Using device: {device}\")"
   ]
  },
  {
   "cell_type": "code",
   "execution_count": 8,
   "id": "7f4fdb05",
   "metadata": {
    "execution": {
     "iopub.execute_input": "2024-06-02T07:17:04.083015Z",
     "iopub.status.busy": "2024-06-02T07:17:04.082470Z",
     "iopub.status.idle": "2024-06-02T07:17:04.087581Z",
     "shell.execute_reply": "2024-06-02T07:17:04.086632Z"
    },
    "id": "WaJQQlZMOT6B",
    "papermill": {
     "duration": 0.014601,
     "end_time": "2024-06-02T07:17:04.089484",
     "exception": false,
     "start_time": "2024-06-02T07:17:04.074883",
     "status": "completed"
    },
    "tags": []
   },
   "outputs": [],
   "source": [
    "def initialize_model():\n",
    "    model = DIPModel().to(device)\n",
    "    optimizer = optim.Adam(model.parameters(), lr=0.005)\n",
    "    return model, optimizer"
   ]
  },
  {
   "cell_type": "code",
   "execution_count": 9,
   "id": "51572c10",
   "metadata": {
    "execution": {
     "iopub.execute_input": "2024-06-02T07:17:04.103408Z",
     "iopub.status.busy": "2024-06-02T07:17:04.103134Z",
     "iopub.status.idle": "2024-06-02T07:17:04.116315Z",
     "shell.execute_reply": "2024-06-02T07:17:04.115407Z"
    },
    "id": "Kdy968OYOcz6",
    "papermill": {
     "duration": 0.022549,
     "end_time": "2024-06-02T07:17:04.118391",
     "exception": false,
     "start_time": "2024-06-02T07:17:04.095842",
     "status": "completed"
    },
    "tags": []
   },
   "outputs": [],
   "source": [
    "def train_schedule(schedule_name, noise_levels):\n",
    "    psnr_results = []\n",
    "    ssim_results = []\n",
    "\n",
    "    noisy_images = [add_noise(target_img, noise_level) for noise_level in noise_levels]\n",
    "    noisy_images_torch = [torch.tensor(img.transpose(2, 0, 1)).unsqueeze(0).float() for img in noisy_images]\n",
    "    noisy_images_torch = [img.to(device) for img in noisy_images_torch]\n",
    "    target_img_torch = torch.tensor(target_img.transpose(2, 0, 1)).unsqueeze(0).float().to(device)\n",
    "\n",
    "    model, optimizer = initialize_model()\n",
    "    criterion = nn.MSELoss()\n",
    "\n",
    "    num_epochs_per_stage = 1000\n",
    "    patience = 50\n",
    "    best_psnr = 0\n",
    "    best_model = None\n",
    "    eval_interval = 10\n",
    "\n",
    "    for stage, noisy_img_torch in enumerate(noisy_images_torch):\n",
    "        print(f\"Training on schedule {schedule_name}, stage {stage + 1} with noise level {noise_levels[stage]}\")\n",
    "        no_improvement_count = 0\n",
    "\n",
    "        for epoch in tqdm(range(num_epochs_per_stage)):\n",
    "            model.train()\n",
    "            optimizer.zero_grad()\n",
    "            output = model(noisy_img_torch)\n",
    "            loss = criterion(output, target_img_torch)\n",
    "            loss.backward()\n",
    "            optimizer.step()\n",
    "\n",
    "            if epoch % eval_interval == 0 or epoch == num_epochs_per_stage - 1:\n",
    "                model.eval()\n",
    "                with torch.no_grad():\n",
    "                    output_img = output.squeeze().cpu().detach().numpy().transpose(1, 2, 0)\n",
    "                    output_img = np.clip(output_img, 0, 1)\n",
    "                    current_psnr = psnr(target_img, output_img, data_range=1.0)\n",
    "                    current_ssim = ssim(target_img, output_img, data_range=1.0, channel_axis=-1)\n",
    "\n",
    "                    if current_psnr - best_psnr >= 0.001:\n",
    "                        best_psnr = current_psnr\n",
    "                        best_model = model.state_dict()\n",
    "                        # no_improvement_count = 0\n",
    "                    else:\n",
    "                        no_improvement_count += 1\n",
    "\n",
    "                    if no_improvement_count >= patience:\n",
    "                        print(f\"Early stopping at epoch {epoch} in schedule {schedule_name}, stage {stage + 1}\")\n",
    "                        break\n",
    "\n",
    "        model.load_state_dict(best_model)\n",
    "        psnr_results.append(best_psnr)\n",
    "        ssim_results.append(current_ssim)\n",
    "\n",
    "    return psnr_results, ssim_results"
   ]
  },
  {
   "cell_type": "markdown",
   "id": "08d19d27",
   "metadata": {
    "id": "D96PkZj5OOvh",
    "papermill": {
     "duration": 0.00641,
     "end_time": "2024-06-02T07:17:04.131453",
     "exception": false,
     "start_time": "2024-06-02T07:17:04.125043",
     "status": "completed"
    },
    "tags": []
   },
   "source": [
    "## Training"
   ]
  },
  {
   "cell_type": "code",
   "execution_count": 10,
   "id": "41abcbec",
   "metadata": {
    "execution": {
     "iopub.execute_input": "2024-06-02T07:17:04.145872Z",
     "iopub.status.busy": "2024-06-02T07:17:04.145203Z",
     "iopub.status.idle": "2024-06-02T07:22:11.442003Z",
     "shell.execute_reply": "2024-06-02T07:22:11.440774Z"
    },
    "id": "xhvROdsz2r5N",
    "outputId": "1e2b028b-c2c2-48dd-9dfc-ce9852c69d98",
    "papermill": {
     "duration": 307.306974,
     "end_time": "2024-06-02T07:22:11.444985",
     "exception": false,
     "start_time": "2024-06-02T07:17:04.138011",
     "status": "completed"
    },
    "tags": []
   },
   "outputs": [
    {
     "name": "stdout",
     "output_type": "stream",
     "text": [
      "Training on schedule gradual, stage 1 with noise level 0.1\n"
     ]
    },
    {
     "name": "stderr",
     "output_type": "stream",
     "text": [
      "100%|██████████| 1000/1000 [00:40<00:00, 24.74it/s]\n"
     ]
    },
    {
     "name": "stdout",
     "output_type": "stream",
     "text": [
      "Training on schedule gradual, stage 2 with noise level 0.05\n"
     ]
    },
    {
     "name": "stderr",
     "output_type": "stream",
     "text": [
      " 70%|███████   | 700/1000 [00:28<00:12, 24.89it/s]\n"
     ]
    },
    {
     "name": "stdout",
     "output_type": "stream",
     "text": [
      "Early stopping at epoch 700 in schedule gradual, stage 2\n",
      "Training on schedule gradual, stage 3 with noise level 0.025\n"
     ]
    },
    {
     "name": "stderr",
     "output_type": "stream",
     "text": [
      " 62%|██████▏   | 620/1000 [00:25<00:15, 24.61it/s]\n"
     ]
    },
    {
     "name": "stdout",
     "output_type": "stream",
     "text": [
      "Early stopping at epoch 620 in schedule gradual, stage 3\n",
      "Training on schedule fast, stage 1 with noise level 0.1\n"
     ]
    },
    {
     "name": "stderr",
     "output_type": "stream",
     "text": [
      "100%|██████████| 1000/1000 [00:39<00:00, 25.01it/s]\n"
     ]
    },
    {
     "name": "stdout",
     "output_type": "stream",
     "text": [
      "Training on schedule fast, stage 2 with noise level 0.01\n"
     ]
    },
    {
     "name": "stderr",
     "output_type": "stream",
     "text": [
      "100%|██████████| 1000/1000 [00:39<00:00, 25.32it/s]\n"
     ]
    },
    {
     "name": "stdout",
     "output_type": "stream",
     "text": [
      "Training on schedule fast, stage 3 with noise level 0.001\n"
     ]
    },
    {
     "name": "stderr",
     "output_type": "stream",
     "text": [
      " 79%|███████▉  | 790/1000 [00:31<00:08, 25.10it/s]\n"
     ]
    },
    {
     "name": "stdout",
     "output_type": "stream",
     "text": [
      "Early stopping at epoch 790 in schedule fast, stage 3\n",
      "Training on schedule slow, stage 1 with noise level 0.1\n"
     ]
    },
    {
     "name": "stderr",
     "output_type": "stream",
     "text": [
      "100%|██████████| 1000/1000 [00:39<00:00, 25.18it/s]\n"
     ]
    },
    {
     "name": "stdout",
     "output_type": "stream",
     "text": [
      "Training on schedule slow, stage 2 with noise level 0.09\n"
     ]
    },
    {
     "name": "stderr",
     "output_type": "stream",
     "text": [
      " 84%|████████▍ | 840/1000 [00:33<00:06, 24.95it/s]\n"
     ]
    },
    {
     "name": "stdout",
     "output_type": "stream",
     "text": [
      "Early stopping at epoch 840 in schedule slow, stage 2\n",
      "Training on schedule slow, stage 3 with noise level 0.08\n"
     ]
    },
    {
     "name": "stderr",
     "output_type": "stream",
     "text": [
      " 68%|██████▊   | 680/1000 [00:27<00:12, 24.99it/s]"
     ]
    },
    {
     "name": "stdout",
     "output_type": "stream",
     "text": [
      "Early stopping at epoch 680 in schedule slow, stage 3\n"
     ]
    },
    {
     "name": "stderr",
     "output_type": "stream",
     "text": [
      "\n"
     ]
    }
   ],
   "source": [
    "results = {}\n",
    "for schedule_name, noise_levels in schedules.items():\n",
    "    psnr_results, ssim_results = train_schedule(schedule_name, noise_levels)\n",
    "    results[schedule_name] = {\n",
    "        \"psnr\": psnr_results,\n",
    "        \"ssim\": ssim_results\n",
    "    }"
   ]
  },
  {
   "cell_type": "markdown",
   "id": "36aa7d06",
   "metadata": {
    "id": "2gZhGE78Ojmy",
    "papermill": {
     "duration": 0.071677,
     "end_time": "2024-06-02T07:22:11.592947",
     "exception": false,
     "start_time": "2024-06-02T07:22:11.521270",
     "status": "completed"
    },
    "tags": []
   },
   "source": [
    "## Visulize the result"
   ]
  },
  {
   "cell_type": "code",
   "execution_count": 11,
   "id": "18737299",
   "metadata": {
    "execution": {
     "iopub.execute_input": "2024-06-02T07:22:11.785283Z",
     "iopub.status.busy": "2024-06-02T07:22:11.784782Z",
     "iopub.status.idle": "2024-06-02T07:22:12.050779Z",
     "shell.execute_reply": "2024-06-02T07:22:12.049826Z"
    },
    "id": "VGB1GtC0Olw7",
    "outputId": "31eccf69-20b9-4f33-ee81-de87af39ff40",
    "papermill": {
     "duration": 0.342601,
     "end_time": "2024-06-02T07:22:12.052890",
     "exception": false,
     "start_time": "2024-06-02T07:22:11.710289",
     "status": "completed"
    },
    "tags": []
   },
   "outputs": [
    {
     "name": "stdout",
     "output_type": "stream",
     "text": [
      "Average PSNR for gradual: 33.6759\n",
      "Average PSNR for fast: 37.1566\n",
      "Average PSNR for slow: 31.6261\n"
     ]
    },
    {
     "data": {
      "image/png": "[encoded data removed]",
      "text/plain": [
       "<Figure size 600x400 with 1 Axes>"
      ]
     },
     "metadata": {},
     "output_type": "display_data"
    }
   ],
   "source": [
    "plt.figure(figsize=(6, 4))\n",
    "for schedule_name, metrics in results.items():\n",
    "    plt.plot(metrics[\"psnr\"], label=f'{schedule_name} PSNR')\n",
    "    avg_psnr = np.mean(metrics[\"psnr\"])\n",
    "    print(f'Average PSNR for {schedule_name}: {avg_psnr:.4f}')\n",
    "plt.xlabel('Stages')\n",
    "plt.ylabel('PSNR')\n",
    "plt.legend()\n",
    "plt.title('PSNR in different level for same epochs')\n",
    "plt.show()"
   ]
  },
  {
   "cell_type": "code",
   "execution_count": 12,
   "id": "e6d619bb",
   "metadata": {
    "execution": {
     "iopub.execute_input": "2024-06-02T07:22:12.201024Z",
     "iopub.status.busy": "2024-06-02T07:22:12.200651Z",
     "iopub.status.idle": "2024-06-02T07:22:12.551586Z",
     "shell.execute_reply": "2024-06-02T07:22:12.550592Z"
    },
    "id": "95JgPszpfjTY",
    "outputId": "c8d1e574-271f-4a7b-d90f-f8de190a9fe7",
    "papermill": {
     "duration": 0.42617,
     "end_time": "2024-06-02T07:22:12.553607",
     "exception": false,
     "start_time": "2024-06-02T07:22:12.127437",
     "status": "completed"
    },
    "tags": []
   },
   "outputs": [
    {
     "name": "stdout",
     "output_type": "stream",
     "text": [
      "Average SSIM for gradual: 0.8592\n",
      "Average SSIM for fast: 0.9059\n",
      "Average SSIM for slow: 0.8125\n"
     ]
    },
    {
     "data": {
      "image/png": "[encoded data removed]",
      "text/plain": [
       "<Figure size 600x400 with 1 Axes>"
      ]
     },
     "metadata": {},
     "output_type": "display_data"
    }
   ],
   "source": [
    "plt.figure(figsize=(6, 4))\n",
    "for schedule_name, metrics in results.items():\n",
    "    plt.plot(metrics[\"ssim\"], label=f'{schedule_name} SSIM')\n",
    "    avg_ssim = np.mean(metrics[\"ssim\"])\n",
    "    print(f'Average SSIM for {schedule_name}: {avg_ssim:.4f}')\n",
    "plt.xlabel('Stages')\n",
    "plt.ylabel('SSIM')\n",
    "plt.legend()\n",
    "plt.title('SSIM in different level for same epochs')\n",
    "plt.show()"
   ]
  },
  {
   "cell_type": "code",
   "execution_count": 13,
   "id": "4fdb1009",
   "metadata": {
    "execution": {
     "iopub.execute_input": "2024-06-02T07:22:12.712861Z",
     "iopub.status.busy": "2024-06-02T07:22:12.712523Z",
     "iopub.status.idle": "2024-06-02T07:22:12.718650Z",
     "shell.execute_reply": "2024-06-02T07:22:12.717588Z"
    },
    "papermill": {
     "duration": 0.089534,
     "end_time": "2024-06-02T07:22:12.721280",
     "exception": false,
     "start_time": "2024-06-02T07:22:12.631746",
     "status": "completed"
    },
    "tags": []
   },
   "outputs": [
    {
     "name": "stdout",
     "output_type": "stream",
     "text": [
      "PSNR results for gradual: ['30.9043', '33.7241', '36.3994']\n",
      "SSIM results for gradual: ['0.7925', '0.8666', '0.9186']\n",
      "PSNR results for fast: ['30.6133', '38.7066', '42.1498']\n",
      "SSIM results for fast: ['0.7838', '0.9539', '0.9800']\n",
      "PSNR results for slow: ['30.9602', '31.6881', '32.2299']\n",
      "SSIM results for slow: ['0.7932', '0.8148', '0.8296']\n"
     ]
    }
   ],
   "source": [
    "for schedule_name, metrics in results.items():\n",
    "    psnr_formatted = [f'{val:.4f}' for val in metrics[\"psnr\"]]\n",
    "    ssim_formatted = [f'{val:.4f}' for val in metrics[\"ssim\"]]\n",
    "    print(f'PSNR results for {schedule_name}: {psnr_formatted}')\n",
    "    print(f'SSIM results for {schedule_name}: {ssim_formatted}')"
   ]
  }
 ],
 "metadata": {
  "accelerator": "GPU",
  "colab": {
   "gpuType": "T4",
   "provenance": []
  },
  "kaggle": {
   "accelerator": "nvidiaTeslaT4",
   "dataSources": [
    {
     "datasetId": 5114393,
     "sourceId": 8557443,
     "sourceType": "datasetVersion"
    }
   ],
   "dockerImageVersionId": 30716,
   "isGpuEnabled": true,
   "isInternetEnabled": true,
   "language": "python",
   "sourceType": "notebook"
  },
  "kernelspec": {
   "display_name": "Python 3",
   "language": "python",
   "name": "python3"
  },
  "language_info": {
   "codemirror_mode": {
    "name": "ipython",
    "version": 3
   },
   "file_extension": ".py",
   "mimetype": "text/x-python",
   "name": "python",
   "nbconvert_exporter": "python",
   "pygments_lexer": "ipython3",
   "version": "3.10.13"
  },
  "papermill": {
   "default_parameters": {},
   "duration": 319.485693,
   "end_time": "2024-06-02T07:22:14.322193",
   "environment_variables": {},
   "exception": null,
   "input_path": "__notebook__.ipynb",
   "output_path": "__notebook__.ipynb",
   "parameters": {},
   "start_time": "2024-06-02T07:16:54.836500",
   "version": "2.5.0"
  }
 },
 "nbformat": 4,
 "nbformat_minor": 5
}
