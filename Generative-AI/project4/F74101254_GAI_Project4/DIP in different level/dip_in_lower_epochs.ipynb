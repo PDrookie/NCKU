{
 "cells": [
  {
   "cell_type": "markdown",
   "id": "ed00d2df",
   "metadata": {
    "id": "VPxR_evgNg6O",
    "papermill": {
     "duration": 0.006175,
     "end_time": "2024-06-02T07:11:54.291277",
     "exception": false,
     "start_time": "2024-06-02T07:11:54.285102",
     "status": "completed"
    },
    "tags": []
   },
   "source": [
    "## Env Creative"
   ]
  },
  {
   "cell_type": "code",
   "execution_count": 1,
   "id": "35bc95a8",
   "metadata": {
    "execution": {
     "iopub.execute_input": "2024-06-02T07:11:54.303603Z",
     "iopub.status.busy": "2024-06-02T07:11:54.303277Z",
     "iopub.status.idle": "2024-06-02T07:11:58.495951Z",
     "shell.execute_reply": "2024-06-02T07:11:58.495010Z"
    },
    "id": "78BPVkAWNbrx",
    "papermill": {
     "duration": 4.201466,
     "end_time": "2024-06-02T07:11:58.498418",
     "exception": false,
     "start_time": "2024-06-02T07:11:54.296952",
     "status": "completed"
    },
    "tags": []
   },
   "outputs": [],
   "source": [
    "import numpy as np\n",
    "import torch\n",
    "import torch.nn as nn\n",
    "import torch.optim as optim\n",
    "from skimage.metrics import peak_signal_noise_ratio as psnr\n",
    "from skimage.metrics import structural_similarity as ssim\n",
    "from tqdm import tqdm\n",
    "import matplotlib.pyplot as plt\n",
    "import imageio.v2"
   ]
  },
  {
   "cell_type": "markdown",
   "id": "be8825eb",
   "metadata": {
    "id": "CyPCpr--NjqQ",
    "papermill": {
     "duration": 0.005481,
     "end_time": "2024-06-02T07:11:58.509960",
     "exception": false,
     "start_time": "2024-06-02T07:11:58.504479",
     "status": "completed"
    },
    "tags": []
   },
   "source": [
    "## Function to add Gaussian noise to the image"
   ]
  },
  {
   "cell_type": "code",
   "execution_count": 2,
   "id": "e91d3690",
   "metadata": {
    "execution": {
     "iopub.execute_input": "2024-06-02T07:11:58.523209Z",
     "iopub.status.busy": "2024-06-02T07:11:58.522332Z",
     "iopub.status.idle": "2024-06-02T07:11:58.527151Z",
     "shell.execute_reply": "2024-06-02T07:11:58.526328Z"
    },
    "id": "fjQ3PlXbNorx",
    "papermill": {
     "duration": 0.013596,
     "end_time": "2024-06-02T07:11:58.529121",
     "exception": false,
     "start_time": "2024-06-02T07:11:58.515525",
     "status": "completed"
    },
    "tags": []
   },
   "outputs": [],
   "source": [
    "def add_noise(img, noise_level):\n",
    "    noise = np.random.normal(0, noise_level, img.shape)\n",
    "    noisy_img = img + noise\n",
    "    return np.clip(noisy_img, 0, 1)"
   ]
  },
  {
   "cell_type": "markdown",
   "id": "e7e990ac",
   "metadata": {
    "id": "tDlzk0CuNpiI",
    "papermill": {
     "duration": 0.005403,
     "end_time": "2024-06-02T07:11:58.540127",
     "exception": false,
     "start_time": "2024-06-02T07:11:58.534724",
     "status": "completed"
    },
    "tags": []
   },
   "source": [
    "## Define the DIP model"
   ]
  },
  {
   "cell_type": "code",
   "execution_count": 3,
   "id": "bdc735eb",
   "metadata": {
    "execution": {
     "iopub.execute_input": "2024-06-02T07:11:58.552123Z",
     "iopub.status.busy": "2024-06-02T07:11:58.551883Z",
     "iopub.status.idle": "2024-06-02T07:11:58.557928Z",
     "shell.execute_reply": "2024-06-02T07:11:58.557181Z"
    },
    "id": "QtS8wxjeNuuI",
    "papermill": {
     "duration": 0.014232,
     "end_time": "2024-06-02T07:11:58.559851",
     "exception": false,
     "start_time": "2024-06-02T07:11:58.545619",
     "status": "completed"
    },
    "tags": []
   },
   "outputs": [],
   "source": [
    "class DIPModel(nn.Module):\n",
    "    def __init__(self):\n",
    "        super(DIPModel, self).__init__()\n",
    "        self.conv1 = nn.Conv2d(3, 64, kernel_size=3, padding=1)\n",
    "        self.conv2 = nn.Conv2d(64, 64, kernel_size=3, padding=1)\n",
    "        self.conv3 = nn.Conv2d(64, 3, kernel_size=3, padding=1)\n",
    "        self.relu = nn.ReLU()\n",
    "\n",
    "    def forward(self, x):\n",
    "        x = self.relu(self.conv1(x))\n",
    "        x = self.relu(self.conv2(x))\n",
    "        x = self.conv3(x)\n",
    "        return x"
   ]
  },
  {
   "cell_type": "markdown",
   "id": "a536e5e8",
   "metadata": {
    "id": "uyRwqMX4N3JR",
    "papermill": {
     "duration": 0.005498,
     "end_time": "2024-06-02T07:11:58.571005",
     "exception": false,
     "start_time": "2024-06-02T07:11:58.565507",
     "status": "completed"
    },
    "tags": []
   },
   "source": [
    "## Load target image"
   ]
  },
  {
   "cell_type": "code",
   "execution_count": 4,
   "id": "ae812d91",
   "metadata": {
    "execution": {
     "iopub.execute_input": "2024-06-02T07:11:58.583024Z",
     "iopub.status.busy": "2024-06-02T07:11:58.582766Z",
     "iopub.status.idle": "2024-06-02T07:11:58.621149Z",
     "shell.execute_reply": "2024-06-02T07:11:58.620523Z"
    },
    "id": "xCIp2TnzN1n6",
    "papermill": {
     "duration": 0.046403,
     "end_time": "2024-06-02T07:11:58.622958",
     "exception": false,
     "start_time": "2024-06-02T07:11:58.576555",
     "status": "completed"
    },
    "tags": []
   },
   "outputs": [],
   "source": [
    "img_path = '/kaggle/input/lenna-test-image/Lenna_(test_image).png'\n",
    "target_img = imageio.v2.imread(img_path)\n",
    "\n",
    "if target_img.dtype == np.uint8:\n",
    "    target_img = target_img / 255.0"
   ]
  },
  {
   "cell_type": "code",
   "execution_count": 5,
   "id": "00d2a021",
   "metadata": {
    "execution": {
     "iopub.execute_input": "2024-06-02T07:11:58.635081Z",
     "iopub.status.busy": "2024-06-02T07:11:58.634847Z",
     "iopub.status.idle": "2024-06-02T07:11:58.892316Z",
     "shell.execute_reply": "2024-06-02T07:11:58.891415Z"
    },
    "id": "tVkeiLeopFiM",
    "outputId": "53bfa47a-1fa3-43ed-e9b7-e925a480815f",
    "papermill": {
     "duration": 0.265913,
     "end_time": "2024-06-02T07:11:58.894524",
     "exception": false,
     "start_time": "2024-06-02T07:11:58.628611",
     "status": "completed"
    },
    "tags": []
   },
   "outputs": [
    {
     "data": {
      "image/png": "[encoded data removed]",
      "text/plain": [
       "<Figure size 300x100 with 1 Axes>"
      ]
     },
     "metadata": {},
     "output_type": "display_data"
    }
   ],
   "source": [
    "plt.figure(figsize=(3, 1))\n",
    "plt.title(\"Original\")\n",
    "plt.imshow(np.clip(target_img, 0, 1))\n",
    "plt.show()"
   ]
  },
  {
   "cell_type": "markdown",
   "id": "f06147ac",
   "metadata": {
    "id": "TpN0JIRROF2A",
    "papermill": {
     "duration": 0.005922,
     "end_time": "2024-06-02T07:11:58.906740",
     "exception": false,
     "start_time": "2024-06-02T07:11:58.900818",
     "status": "completed"
    },
    "tags": []
   },
   "source": [
    "## Define noise levels and schedule"
   ]
  },
  {
   "cell_type": "code",
   "execution_count": 6,
   "id": "a108beb2",
   "metadata": {
    "execution": {
     "iopub.execute_input": "2024-06-02T07:11:58.920177Z",
     "iopub.status.busy": "2024-06-02T07:11:58.919582Z",
     "iopub.status.idle": "2024-06-02T07:11:58.923786Z",
     "shell.execute_reply": "2024-06-02T07:11:58.922949Z"
    },
    "id": "4qZXS6RlOFNI",
    "papermill": {
     "duration": 0.012974,
     "end_time": "2024-06-02T07:11:58.925660",
     "exception": false,
     "start_time": "2024-06-02T07:11:58.912686",
     "status": "completed"
    },
    "tags": []
   },
   "outputs": [],
   "source": [
    "schedules = {\n",
    "    \"gradual\": [0.1, 0.05, 0.025],\n",
    "    \"fast\": [0.1, 0.01, 0.001],\n",
    "    \"slow\": [0.1, 0.09, 0.08]\n",
    "}"
   ]
  },
  {
   "cell_type": "markdown",
   "id": "fc7b5e60",
   "metadata": {
    "id": "PxrTRBDSOKrp",
    "papermill": {
     "duration": 0.005615,
     "end_time": "2024-06-02T07:11:58.938053",
     "exception": false,
     "start_time": "2024-06-02T07:11:58.932438",
     "status": "completed"
    },
    "tags": []
   },
   "source": [
    "## Prepare for Training"
   ]
  },
  {
   "cell_type": "code",
   "execution_count": 7,
   "id": "f0a6fa48",
   "metadata": {
    "execution": {
     "iopub.execute_input": "2024-06-02T07:11:58.950984Z",
     "iopub.status.busy": "2024-06-02T07:11:58.950517Z",
     "iopub.status.idle": "2024-06-02T07:11:59.022831Z",
     "shell.execute_reply": "2024-06-02T07:11:59.022019Z"
    },
    "id": "2C2Rwc-rOMtR",
    "outputId": "f97dfe35-e328-4595-ce6a-33ee4b416326",
    "papermill": {
     "duration": 0.08134,
     "end_time": "2024-06-02T07:11:59.025224",
     "exception": false,
     "start_time": "2024-06-02T07:11:58.943884",
     "status": "completed"
    },
    "tags": []
   },
   "outputs": [
    {
     "name": "stdout",
     "output_type": "stream",
     "text": [
      "Using device: cuda\n"
     ]
    }
   ],
   "source": [
    "device = torch.device(\"cuda\" if torch.cuda.is_available() else \"cpu\")\n",
    "print(f\"Using device: {device}\")"
   ]
  },
  {
   "cell_type": "code",
   "execution_count": 8,
   "id": "559af275",
   "metadata": {
    "execution": {
     "iopub.execute_input": "2024-06-02T07:11:59.039516Z",
     "iopub.status.busy": "2024-06-02T07:11:59.039121Z",
     "iopub.status.idle": "2024-06-02T07:11:59.044364Z",
     "shell.execute_reply": "2024-06-02T07:11:59.043486Z"
    },
    "id": "WaJQQlZMOT6B",
    "papermill": {
     "duration": 0.01577,
     "end_time": "2024-06-02T07:11:59.047054",
     "exception": false,
     "start_time": "2024-06-02T07:11:59.031284",
     "status": "completed"
    },
    "tags": []
   },
   "outputs": [],
   "source": [
    "def initialize_model():\n",
    "    model = DIPModel().to(device)\n",
    "    optimizer = optim.Adam(model.parameters(), lr=0.005)\n",
    "    return model, optimizer"
   ]
  },
  {
   "cell_type": "code",
   "execution_count": 9,
   "id": "83357eb8",
   "metadata": {
    "execution": {
     "iopub.execute_input": "2024-06-02T07:11:59.065716Z",
     "iopub.status.busy": "2024-06-02T07:11:59.065356Z",
     "iopub.status.idle": "2024-06-02T07:11:59.084603Z",
     "shell.execute_reply": "2024-06-02T07:11:59.083653Z"
    },
    "id": "Kdy968OYOcz6",
    "papermill": {
     "duration": 0.032219,
     "end_time": "2024-06-02T07:11:59.087298",
     "exception": false,
     "start_time": "2024-06-02T07:11:59.055079",
     "status": "completed"
    },
    "tags": []
   },
   "outputs": [],
   "source": [
    "def train_schedule(schedule_name, noise_levels):\n",
    "    psnr_results = []\n",
    "    ssim_results = []\n",
    "\n",
    "    noisy_images = [add_noise(target_img, noise_level) for noise_level in noise_levels]\n",
    "    noisy_images_torch = [torch.tensor(img.transpose(2, 0, 1)).unsqueeze(0).float() for img in noisy_images]\n",
    "    noisy_images_torch = [img.to(device) for img in noisy_images_torch]\n",
    "    target_img_torch = torch.tensor(target_img.transpose(2, 0, 1)).unsqueeze(0).float().to(device)\n",
    "\n",
    "    model, optimizer = initialize_model()\n",
    "    criterion = nn.MSELoss()\n",
    "\n",
    "    num_epochs_per_stage = 200\n",
    "    patience = 50\n",
    "    best_psnr = 0\n",
    "    best_model = None\n",
    "    eval_interval = 10\n",
    "\n",
    "    for stage, noisy_img_torch in enumerate(noisy_images_torch):\n",
    "        print(f\"Training on schedule {schedule_name}, stage {stage + 1} with noise level {noise_levels[stage]}\")\n",
    "        no_improvement_count = 0\n",
    "\n",
    "        for epoch in tqdm(range(num_epochs_per_stage)):\n",
    "            model.train()\n",
    "            optimizer.zero_grad()\n",
    "            output = model(noisy_img_torch)\n",
    "            loss = criterion(output, target_img_torch)\n",
    "            loss.backward()\n",
    "            optimizer.step()\n",
    "\n",
    "            if epoch % eval_interval == 0 or epoch == num_epochs_per_stage - 1:\n",
    "                model.eval()\n",
    "                with torch.no_grad():\n",
    "                    output_img = output.squeeze().cpu().detach().numpy().transpose(1, 2, 0)\n",
    "                    output_img = np.clip(output_img, 0, 1)\n",
    "                    current_psnr = psnr(target_img, output_img, data_range=1.0)\n",
    "                    current_ssim = ssim(target_img, output_img, data_range=1.0, channel_axis=-1)\n",
    "\n",
    "                    if current_psnr - best_psnr >= 0.001:\n",
    "                        best_psnr = current_psnr\n",
    "                        best_model = model.state_dict()\n",
    "                        # no_improvement_count = 0\n",
    "                    else:\n",
    "                        no_improvement_count += 1\n",
    "\n",
    "                    if no_improvement_count >= patience:\n",
    "                        print(f\"Early stopping at epoch {epoch} in schedule {schedule_name}, stage {stage + 1}\")\n",
    "                        break\n",
    "\n",
    "        model.load_state_dict(best_model)\n",
    "        psnr_results.append(best_psnr)\n",
    "        ssim_results.append(current_ssim)\n",
    "\n",
    "    return psnr_results, ssim_results"
   ]
  },
  {
   "cell_type": "markdown",
   "id": "d45843b9",
   "metadata": {
    "id": "D96PkZj5OOvh",
    "papermill": {
     "duration": 0.005817,
     "end_time": "2024-06-02T07:11:59.099757",
     "exception": false,
     "start_time": "2024-06-02T07:11:59.093940",
     "status": "completed"
    },
    "tags": []
   },
   "source": [
    "## Training"
   ]
  },
  {
   "cell_type": "code",
   "execution_count": 10,
   "id": "9cb60c59",
   "metadata": {
    "execution": {
     "iopub.execute_input": "2024-06-02T07:11:59.112997Z",
     "iopub.status.busy": "2024-06-02T07:11:59.112738Z",
     "iopub.status.idle": "2024-06-02T07:13:05.091201Z",
     "shell.execute_reply": "2024-06-02T07:13:05.090266Z"
    },
    "id": "xhvROdsz2r5N",
    "outputId": "49cb95ea-207d-47d7-c595-86deb2fe81fd",
    "papermill": {
     "duration": 65.987308,
     "end_time": "2024-06-02T07:13:05.093298",
     "exception": false,
     "start_time": "2024-06-02T07:11:59.105990",
     "status": "completed"
    },
    "tags": []
   },
   "outputs": [
    {
     "name": "stdout",
     "output_type": "stream",
     "text": [
      "Training on schedule gradual, stage 1 with noise level 0.1\n"
     ]
    },
    {
     "name": "stderr",
     "output_type": "stream",
     "text": [
      "100%|██████████| 200/200 [00:08<00:00, 23.62it/s]\n"
     ]
    },
    {
     "name": "stdout",
     "output_type": "stream",
     "text": [
      "Training on schedule gradual, stage 2 with noise level 0.05\n"
     ]
    },
    {
     "name": "stderr",
     "output_type": "stream",
     "text": [
      "100%|██████████| 200/200 [00:07<00:00, 26.45it/s]\n"
     ]
    },
    {
     "name": "stdout",
     "output_type": "stream",
     "text": [
      "Training on schedule gradual, stage 3 with noise level 0.025\n"
     ]
    },
    {
     "name": "stderr",
     "output_type": "stream",
     "text": [
      "100%|██████████| 200/200 [00:07<00:00, 26.37it/s]\n"
     ]
    },
    {
     "name": "stdout",
     "output_type": "stream",
     "text": [
      "Training on schedule fast, stage 1 with noise level 0.1\n"
     ]
    },
    {
     "name": "stderr",
     "output_type": "stream",
     "text": [
      "100%|██████████| 200/200 [00:06<00:00, 29.86it/s]\n"
     ]
    },
    {
     "name": "stdout",
     "output_type": "stream",
     "text": [
      "Training on schedule fast, stage 2 with noise level 0.01\n"
     ]
    },
    {
     "name": "stderr",
     "output_type": "stream",
     "text": [
      "100%|██████████| 200/200 [00:06<00:00, 29.75it/s]\n"
     ]
    },
    {
     "name": "stdout",
     "output_type": "stream",
     "text": [
      "Training on schedule fast, stage 3 with noise level 0.001\n"
     ]
    },
    {
     "name": "stderr",
     "output_type": "stream",
     "text": [
      "100%|██████████| 200/200 [00:06<00:00, 29.59it/s]\n"
     ]
    },
    {
     "name": "stdout",
     "output_type": "stream",
     "text": [
      "Training on schedule slow, stage 1 with noise level 0.1\n"
     ]
    },
    {
     "name": "stderr",
     "output_type": "stream",
     "text": [
      "100%|██████████| 200/200 [00:06<00:00, 29.42it/s]\n"
     ]
    },
    {
     "name": "stdout",
     "output_type": "stream",
     "text": [
      "Training on schedule slow, stage 2 with noise level 0.09\n"
     ]
    },
    {
     "name": "stderr",
     "output_type": "stream",
     "text": [
      "100%|██████████| 200/200 [00:06<00:00, 29.42it/s]\n"
     ]
    },
    {
     "name": "stdout",
     "output_type": "stream",
     "text": [
      "Training on schedule slow, stage 3 with noise level 0.08\n"
     ]
    },
    {
     "name": "stderr",
     "output_type": "stream",
     "text": [
      "100%|██████████| 200/200 [00:06<00:00, 29.34it/s]\n"
     ]
    }
   ],
   "source": [
    "results = {}\n",
    "for schedule_name, noise_levels in schedules.items():\n",
    "    psnr_results, ssim_results = train_schedule(schedule_name, noise_levels)\n",
    "    results[schedule_name] = {\n",
    "        \"psnr\": psnr_results,\n",
    "        \"ssim\": ssim_results\n",
    "    }"
   ]
  },
  {
   "cell_type": "markdown",
   "id": "bb412c38",
   "metadata": {
    "id": "2gZhGE78Ojmy",
    "papermill": {
     "duration": 0.023333,
     "end_time": "2024-06-02T07:13:05.140317",
     "exception": false,
     "start_time": "2024-06-02T07:13:05.116984",
     "status": "completed"
    },
    "tags": []
   },
   "source": [
    "## Visulize the result"
   ]
  },
  {
   "cell_type": "code",
   "execution_count": 11,
   "id": "f3a4fa63",
   "metadata": {
    "execution": {
     "iopub.execute_input": "2024-06-02T07:13:05.187667Z",
     "iopub.status.busy": "2024-06-02T07:13:05.187219Z",
     "iopub.status.idle": "2024-06-02T07:13:05.192982Z",
     "shell.execute_reply": "2024-06-02T07:13:05.192088Z"
    },
    "id": "MJIGhGloClxU",
    "outputId": "63ddc669-efd2-4213-b525-496ef7bc73b8",
    "papermill": {
     "duration": 0.031501,
     "end_time": "2024-06-02T07:13:05.194869",
     "exception": false,
     "start_time": "2024-06-02T07:13:05.163368",
     "status": "completed"
    },
    "tags": []
   },
   "outputs": [
    {
     "name": "stdout",
     "output_type": "stream",
     "text": [
      "PSNR results for gradual: ['30.2496', '33.2330', '35.8764']\n",
      "SSIM results for gradual: ['0.7704', '0.8572', '0.9124']\n",
      "PSNR results for fast: ['30.2694', '37.2139', '38.8598']\n",
      "SSIM results for fast: ['0.7703', '0.9390', '0.9602']\n",
      "PSNR results for slow: ['29.1811', '30.3578', '31.1056']\n",
      "SSIM results for slow: ['0.7414', '0.7751', '0.7969']\n"
     ]
    }
   ],
   "source": [
    "for schedule_name, metrics in results.items():\n",
    "    psnr_formatted = [f'{val:.4f}' for val in metrics[\"psnr\"]]\n",
    "    ssim_formatted = [f'{val:.4f}' for val in metrics[\"ssim\"]]\n",
    "    print(f'PSNR results for {schedule_name}: {psnr_formatted}')\n",
    "    print(f'SSIM results for {schedule_name}: {ssim_formatted}')"
   ]
  },
  {
   "cell_type": "code",
   "execution_count": 12,
   "id": "ae165b28",
   "metadata": {
    "execution": {
     "iopub.execute_input": "2024-06-02T07:13:05.242149Z",
     "iopub.status.busy": "2024-06-02T07:13:05.241893Z",
     "iopub.status.idle": "2024-06-02T07:13:05.489501Z",
     "shell.execute_reply": "2024-06-02T07:13:05.488664Z"
    },
    "id": "VGB1GtC0Olw7",
    "outputId": "16e9f975-ce3d-4293-ba33-c04bd7a92d8c",
    "papermill": {
     "duration": 0.273401,
     "end_time": "2024-06-02T07:13:05.491451",
     "exception": false,
     "start_time": "2024-06-02T07:13:05.218050",
     "status": "completed"
    },
    "tags": []
   },
   "outputs": [
    {
     "name": "stdout",
     "output_type": "stream",
     "text": [
      "Average PSNR for gradual: 33.1197\n",
      "Average PSNR for fast: 35.4477\n",
      "Average PSNR for slow: 30.2149\n"
     ]
    },
    {
     "data": {
      "image/png": "[encoded data removed]",
      "text/plain": [
       "<Figure size 600x400 with 1 Axes>"
      ]
     },
     "metadata": {},
     "output_type": "display_data"
    }
   ],
   "source": [
    "plt.figure(figsize=(6, 4))\n",
    "for schedule_name, metrics in results.items():\n",
    "    plt.plot(metrics[\"psnr\"], label=f'{schedule_name} PSNR')\n",
    "    avg_psnr = np.mean(metrics[\"psnr\"])\n",
    "    print(f'Average PSNR for {schedule_name}: {avg_psnr:.4f}')\n",
    "plt.xlabel('Stages')\n",
    "plt.ylabel('PSNR')\n",
    "plt.legend()\n",
    "plt.title('PSNR in different levels for lower epochs')\n",
    "plt.show()"
   ]
  },
  {
   "cell_type": "code",
   "execution_count": 13,
   "id": "e34c6a9a",
   "metadata": {
    "execution": {
     "iopub.execute_input": "2024-06-02T07:13:05.540125Z",
     "iopub.status.busy": "2024-06-02T07:13:05.539880Z",
     "iopub.status.idle": "2024-06-02T07:13:05.769354Z",
     "shell.execute_reply": "2024-06-02T07:13:05.768605Z"
    },
    "id": "95JgPszpfjTY",
    "outputId": "3f9fbf4d-fc89-45a4-8993-5ea07ce1c12d",
    "papermill": {
     "duration": 0.255991,
     "end_time": "2024-06-02T07:13:05.771210",
     "exception": false,
     "start_time": "2024-06-02T07:13:05.515219",
     "status": "completed"
    },
    "tags": []
   },
   "outputs": [
    {
     "name": "stdout",
     "output_type": "stream",
     "text": [
      "Average SSIM for gradual: 0.8467\n",
      "Average SSIM for fast: 0.8898\n",
      "Average SSIM for slow: 0.7711\n"
     ]
    },
    {
     "data": {
      "image/png": "[encoded data removed]",
      "text/plain": [
       "<Figure size 600x400 with 1 Axes>"
      ]
     },
     "metadata": {},
     "output_type": "display_data"
    }
   ],
   "source": [
    "plt.figure(figsize=(6, 4))\n",
    "for schedule_name, metrics in results.items():\n",
    "    plt.plot(metrics[\"ssim\"], label=f'{schedule_name} SSIM')\n",
    "    avg_ssim = np.mean(metrics[\"ssim\"])\n",
    "    print(f'Average SSIM for {schedule_name}: {avg_ssim:.4f}')\n",
    "plt.xlabel('Stages')\n",
    "plt.ylabel('SSIM')\n",
    "plt.legend()\n",
    "plt.title('SSIM in different levels for lower epochs')\n",
    "plt.show()"
   ]
  }
 ],
 "metadata": {
  "accelerator": "GPU",
  "colab": {
   "gpuType": "T4",
   "provenance": []
  },
  "kaggle": {
   "accelerator": "nvidiaTeslaT4",
   "dataSources": [
    {
     "datasetId": 5114393,
     "sourceId": 8557443,
     "sourceType": "datasetVersion"
    },
    {
     "datasetId": 5123493,
     "sourceId": 8569100,
     "sourceType": "datasetVersion"
    }
   ],
   "dockerImageVersionId": 30716,
   "isGpuEnabled": true,
   "isInternetEnabled": true,
   "language": "python",
   "sourceType": "notebook"
  },
  "kernelspec": {
   "display_name": "Python 3",
   "language": "python",
   "name": "python3"
  },
  "language_info": {
   "codemirror_mode": {
    "name": "ipython",
    "version": 3
   },
   "file_extension": ".py",
   "mimetype": "text/x-python",
   "name": "python",
   "nbconvert_exporter": "python",
   "pygments_lexer": "ipython3",
   "version": "3.10.13"
  },
  "papermill": {
   "default_parameters": {},
   "duration": 75.265317,
   "end_time": "2024-06-02T07:13:07.016131",
   "environment_variables": {},
   "exception": null,
   "input_path": "__notebook__.ipynb",
   "output_path": "__notebook__.ipynb",
   "parameters": {},
   "start_time": "2024-06-02T07:11:51.750814",
   "version": "2.5.0"
  }
 },
 "nbformat": 4,
 "nbformat_minor": 5
}
