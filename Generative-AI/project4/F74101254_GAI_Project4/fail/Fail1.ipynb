{
 "cells": [
  {
   "cell_type": "markdown",
   "id": "08552eb5",
   "metadata": {
    "id": "VPxR_evgNg6O",
    "papermill": {
     "duration": 0.007005,
     "end_time": "2024-06-02T07:11:24.320813",
     "exception": false,
     "start_time": "2024-06-02T07:11:24.313808",
     "status": "completed"
    },
    "tags": []
   },
   "source": [
    "## Env Creative"
   ]
  },
  {
   "cell_type": "code",
   "execution_count": 1,
   "id": "6fa868c9",
   "metadata": {
    "execution": {
     "iopub.execute_input": "2024-06-02T07:11:24.336808Z",
     "iopub.status.busy": "2024-06-02T07:11:24.336118Z",
     "iopub.status.idle": "2024-06-02T07:11:29.903679Z",
     "shell.execute_reply": "2024-06-02T07:11:29.902837Z"
    },
    "id": "78BPVkAWNbrx",
    "papermill": {
     "duration": 5.578293,
     "end_time": "2024-06-02T07:11:29.906183",
     "exception": false,
     "start_time": "2024-06-02T07:11:24.327890",
     "status": "completed"
    },
    "tags": []
   },
   "outputs": [],
   "source": [
    "import numpy as np\n",
    "import torch\n",
    "import torch.nn as nn\n",
    "import torch.optim as optim\n",
    "from skimage.metrics import peak_signal_noise_ratio as psnr\n",
    "from skimage.metrics import structural_similarity as ssim\n",
    "from tqdm import tqdm\n",
    "import matplotlib.pyplot as plt\n",
    "import imageio.v2"
   ]
  },
  {
   "cell_type": "markdown",
   "id": "06ed0ec0",
   "metadata": {
    "id": "CyPCpr--NjqQ",
    "papermill": {
     "duration": 0.006304,
     "end_time": "2024-06-02T07:11:29.919656",
     "exception": false,
     "start_time": "2024-06-02T07:11:29.913352",
     "status": "completed"
    },
    "tags": []
   },
   "source": [
    "## Function to add Gaussian noise to the image"
   ]
  },
  {
   "cell_type": "code",
   "execution_count": 2,
   "id": "6854707c",
   "metadata": {
    "execution": {
     "iopub.execute_input": "2024-06-02T07:11:29.934153Z",
     "iopub.status.busy": "2024-06-02T07:11:29.933401Z",
     "iopub.status.idle": "2024-06-02T07:11:29.938383Z",
     "shell.execute_reply": "2024-06-02T07:11:29.937453Z"
    },
    "id": "fjQ3PlXbNorx",
    "papermill": {
     "duration": 0.01432,
     "end_time": "2024-06-02T07:11:29.940372",
     "exception": false,
     "start_time": "2024-06-02T07:11:29.926052",
     "status": "completed"
    },
    "tags": []
   },
   "outputs": [],
   "source": [
    "def add_noise(img, noise_level):\n",
    "    noise = np.random.normal(0, noise_level, img.shape)\n",
    "    noisy_img = img + noise\n",
    "    return np.clip(noisy_img, 0, 1)"
   ]
  },
  {
   "cell_type": "markdown",
   "id": "efc33ce8",
   "metadata": {
    "id": "tDlzk0CuNpiI",
    "papermill": {
     "duration": 0.006066,
     "end_time": "2024-06-02T07:11:29.952872",
     "exception": false,
     "start_time": "2024-06-02T07:11:29.946806",
     "status": "completed"
    },
    "tags": []
   },
   "source": [
    "## Define the DIP model"
   ]
  },
  {
   "cell_type": "code",
   "execution_count": 3,
   "id": "9a5dfa86",
   "metadata": {
    "execution": {
     "iopub.execute_input": "2024-06-02T07:11:29.966492Z",
     "iopub.status.busy": "2024-06-02T07:11:29.966218Z",
     "iopub.status.idle": "2024-06-02T07:11:29.973077Z",
     "shell.execute_reply": "2024-06-02T07:11:29.972338Z"
    },
    "id": "QtS8wxjeNuuI",
    "papermill": {
     "duration": 0.015776,
     "end_time": "2024-06-02T07:11:29.974870",
     "exception": false,
     "start_time": "2024-06-02T07:11:29.959094",
     "status": "completed"
    },
    "tags": []
   },
   "outputs": [],
   "source": [
    "class DIPModel(nn.Module):\n",
    "    def __init__(self):\n",
    "        super(DIPModel, self).__init__()\n",
    "        self.conv1 = nn.Conv2d(3, 64, kernel_size=3, padding=1)\n",
    "        self.conv2 = nn.Conv2d(64, 64, kernel_size=3, padding=1)\n",
    "        self.conv3 = nn.Conv2d(64, 3, kernel_size=3, padding=1)\n",
    "        self.relu = nn.ReLU()\n",
    "\n",
    "    def forward(self, x):\n",
    "        x = self.relu(self.conv1(x))\n",
    "        x = self.relu(self.conv2(x))\n",
    "        x = self.conv3(x)\n",
    "        return x"
   ]
  },
  {
   "cell_type": "markdown",
   "id": "3690e9b5",
   "metadata": {
    "id": "uyRwqMX4N3JR",
    "papermill": {
     "duration": 0.005899,
     "end_time": "2024-06-02T07:11:29.987037",
     "exception": false,
     "start_time": "2024-06-02T07:11:29.981138",
     "status": "completed"
    },
    "tags": []
   },
   "source": [
    "## Load target image"
   ]
  },
  {
   "cell_type": "code",
   "execution_count": 4,
   "id": "3c49550b",
   "metadata": {
    "execution": {
     "iopub.execute_input": "2024-06-02T07:11:30.000553Z",
     "iopub.status.busy": "2024-06-02T07:11:30.000240Z",
     "iopub.status.idle": "2024-06-02T07:11:30.065155Z",
     "shell.execute_reply": "2024-06-02T07:11:30.064260Z"
    },
    "id": "xCIp2TnzN1n6",
    "outputId": "de4f48a0-526b-4f34-feab-935ff204c376",
    "papermill": {
     "duration": 0.073936,
     "end_time": "2024-06-02T07:11:30.067350",
     "exception": false,
     "start_time": "2024-06-02T07:11:29.993414",
     "status": "completed"
    },
    "tags": []
   },
   "outputs": [
    {
     "name": "stderr",
     "output_type": "stream",
     "text": [
      "/tmp/ipykernel_24/1330099834.py:2: DeprecationWarning: Starting with ImageIO v3 the behavior of this function will switch to that of iio.v3.imread. To keep the current behavior (and make this warning disappear) use `import imageio.v2 as imageio` or call `imageio.v2.imread` directly.\n",
      "  target_img = imageio.imread(img_path)\n"
     ]
    }
   ],
   "source": [
    "img_path = '/kaggle/input/lenna-test-image/Lenna_(test_image).png'\n",
    "target_img = imageio.imread(img_path)\n",
    "\n",
    "if target_img.dtype == np.uint8:\n",
    "    target_img = target_img / 255.0"
   ]
  },
  {
   "cell_type": "code",
   "execution_count": 5,
   "id": "20f284ee",
   "metadata": {
    "execution": {
     "iopub.execute_input": "2024-06-02T07:11:30.081702Z",
     "iopub.status.busy": "2024-06-02T07:11:30.081167Z",
     "iopub.status.idle": "2024-06-02T07:11:30.372804Z",
     "shell.execute_reply": "2024-06-02T07:11:30.371707Z"
    },
    "id": "tVkeiLeopFiM",
    "outputId": "ce4371fd-8151-413f-830f-f6ee90431231",
    "papermill": {
     "duration": 0.301343,
     "end_time": "2024-06-02T07:11:30.375040",
     "exception": false,
     "start_time": "2024-06-02T07:11:30.073697",
     "status": "completed"
    },
    "tags": []
   },
   "outputs": [
    {
     "data": {
      "image/png": "[encoded data removed]",
      "text/plain": [
       "<Figure size 300x100 with 1 Axes>"
      ]
     },
     "metadata": {},
     "output_type": "display_data"
    }
   ],
   "source": [
    "# check the picture load correctly\n",
    "plt.figure(figsize=(3, 1))\n",
    "plt.title(\"Original\")\n",
    "plt.imshow(np.clip(target_img, 0, 1))\n",
    "plt.show()"
   ]
  },
  {
   "cell_type": "markdown",
   "id": "70402f0f",
   "metadata": {
    "id": "TpN0JIRROF2A",
    "papermill": {
     "duration": 0.007769,
     "end_time": "2024-06-02T07:11:30.390512",
     "exception": false,
     "start_time": "2024-06-02T07:11:30.382743",
     "status": "completed"
    },
    "tags": []
   },
   "source": [
    "## Define noise levels and schedule"
   ]
  },
  {
   "cell_type": "code",
   "execution_count": 6,
   "id": "fa6f7fba",
   "metadata": {
    "execution": {
     "iopub.execute_input": "2024-06-02T07:11:30.405480Z",
     "iopub.status.busy": "2024-06-02T07:11:30.405154Z",
     "iopub.status.idle": "2024-06-02T07:11:30.409923Z",
     "shell.execute_reply": "2024-06-02T07:11:30.409086Z"
    },
    "id": "4qZXS6RlOFNI",
    "papermill": {
     "duration": 0.014769,
     "end_time": "2024-06-02T07:11:30.412073",
     "exception": false,
     "start_time": "2024-06-02T07:11:30.397304",
     "status": "completed"
    },
    "tags": []
   },
   "outputs": [],
   "source": [
    "schedules = {\n",
    "    \"gradual\": [0.1, 0.05, 0.025],\n",
    "    \"fast\": [0.1, 0.01, 0.001],\n",
    "    \"slow\": [0.1, 0.075, 0.05]\n",
    "}"
   ]
  },
  {
   "cell_type": "markdown",
   "id": "00738843",
   "metadata": {
    "id": "YGKy4pSTcSML",
    "papermill": {
     "duration": 0.006646,
     "end_time": "2024-06-02T07:11:30.425556",
     "exception": false,
     "start_time": "2024-06-02T07:11:30.418910",
     "status": "completed"
    },
    "tags": []
   },
   "source": [
    "## Define epochs per stage for each schedule"
   ]
  },
  {
   "cell_type": "code",
   "execution_count": 7,
   "id": "655592d4",
   "metadata": {
    "execution": {
     "iopub.execute_input": "2024-06-02T07:11:30.441258Z",
     "iopub.status.busy": "2024-06-02T07:11:30.440409Z",
     "iopub.status.idle": "2024-06-02T07:11:30.444922Z",
     "shell.execute_reply": "2024-06-02T07:11:30.444050Z"
    },
    "id": "HbAwcIFCcMbT",
    "papermill": {
     "duration": 0.014399,
     "end_time": "2024-06-02T07:11:30.446969",
     "exception": false,
     "start_time": "2024-06-02T07:11:30.432570",
     "status": "completed"
    },
    "tags": []
   },
   "outputs": [],
   "source": [
    "epochs_per_stage = [500, 1000, 1500]"
   ]
  },
  {
   "cell_type": "markdown",
   "id": "b8473843",
   "metadata": {
    "id": "PxrTRBDSOKrp",
    "papermill": {
     "duration": 0.006535,
     "end_time": "2024-06-02T07:11:30.460168",
     "exception": false,
     "start_time": "2024-06-02T07:11:30.453633",
     "status": "completed"
    },
    "tags": []
   },
   "source": [
    "## Prepare for Training"
   ]
  },
  {
   "cell_type": "code",
   "execution_count": 8,
   "id": "f2bde860",
   "metadata": {
    "execution": {
     "iopub.execute_input": "2024-06-02T07:11:30.474412Z",
     "iopub.status.busy": "2024-06-02T07:11:30.474121Z",
     "iopub.status.idle": "2024-06-02T07:11:30.559905Z",
     "shell.execute_reply": "2024-06-02T07:11:30.558904Z"
    },
    "id": "2C2Rwc-rOMtR",
    "outputId": "d0cfe62c-025f-4aab-8604-717aecd259fd",
    "papermill": {
     "duration": 0.095157,
     "end_time": "2024-06-02T07:11:30.562023",
     "exception": false,
     "start_time": "2024-06-02T07:11:30.466866",
     "status": "completed"
    },
    "tags": []
   },
   "outputs": [
    {
     "name": "stdout",
     "output_type": "stream",
     "text": [
      "Using device: cuda\n"
     ]
    }
   ],
   "source": [
    "device = torch.device(\"cuda\" if torch.cuda.is_available() else \"cpu\")\n",
    "print(f\"Using device: {device}\")"
   ]
  },
  {
   "cell_type": "code",
   "execution_count": 9,
   "id": "070b8b81",
   "metadata": {
    "execution": {
     "iopub.execute_input": "2024-06-02T07:11:30.577237Z",
     "iopub.status.busy": "2024-06-02T07:11:30.576915Z",
     "iopub.status.idle": "2024-06-02T07:11:30.581680Z",
     "shell.execute_reply": "2024-06-02T07:11:30.580739Z"
    },
    "id": "WaJQQlZMOT6B",
    "papermill": {
     "duration": 0.014631,
     "end_time": "2024-06-02T07:11:30.583606",
     "exception": false,
     "start_time": "2024-06-02T07:11:30.568975",
     "status": "completed"
    },
    "tags": []
   },
   "outputs": [],
   "source": [
    "def initialize_model():\n",
    "    model = DIPModel().to(device)\n",
    "    optimizer = optim.Adam(model.parameters(), lr=0.005)\n",
    "    return model, optimizer"
   ]
  },
  {
   "cell_type": "code",
   "execution_count": 10,
   "id": "ed387762",
   "metadata": {
    "execution": {
     "iopub.execute_input": "2024-06-02T07:11:30.598781Z",
     "iopub.status.busy": "2024-06-02T07:11:30.598519Z",
     "iopub.status.idle": "2024-06-02T07:11:30.611127Z",
     "shell.execute_reply": "2024-06-02T07:11:30.610228Z"
    },
    "id": "Kdy968OYOcz6",
    "papermill": {
     "duration": 0.022606,
     "end_time": "2024-06-02T07:11:30.613269",
     "exception": false,
     "start_time": "2024-06-02T07:11:30.590663",
     "status": "completed"
    },
    "tags": []
   },
   "outputs": [],
   "source": [
    "def train_schedule(schedule_name, noise_levels, epochs_per_stage):\n",
    "    psnr_results = []\n",
    "    ssim_results = []\n",
    "\n",
    "    noisy_images = [add_noise(target_img, noise_level) for noise_level in noise_levels]\n",
    "    noisy_images_torch = [torch.tensor(img.transpose(2, 0, 1)).unsqueeze(0).float().to(device) for img in noisy_images]\n",
    "    target_img_torch = torch.tensor(target_img.transpose(2, 0, 1)).unsqueeze(0).float().to(device)\n",
    "\n",
    "    model, optimizer = initialize_model()\n",
    "    criterion = nn.MSELoss()\n",
    "\n",
    "    patience = 50\n",
    "    best_psnr = 0\n",
    "    best_model = None\n",
    "    eval_interval = 10  # Set evaluation interval to 100 epochs\n",
    "\n",
    "    for stage, (noisy_img_torch, num_epochs) in enumerate(zip(noisy_images_torch, epochs_per_stage)):\n",
    "        print(f\"Training on schedule {schedule_name}, stage {stage + 1} with noise level {noise_levels[stage]}\")\n",
    "        no_improvement_count = 0\n",
    "\n",
    "        for epoch in tqdm(range(num_epochs)):\n",
    "            model.train()\n",
    "            optimizer.zero_grad()\n",
    "            output = model(noisy_img_torch)\n",
    "            loss = criterion(output, target_img_torch)\n",
    "            loss.backward()\n",
    "            optimizer.step()\n",
    "\n",
    "            if epoch % eval_interval == 0 or epoch == num_epochs - 1:\n",
    "                model.eval()\n",
    "                with torch.no_grad():\n",
    "                    output_img = output.squeeze().cpu().detach().numpy().transpose(1, 2, 0)\n",
    "                    output_img = np.clip(output_img, 0, 1)\n",
    "                    current_psnr = psnr(target_img, output_img, data_range=1.0)\n",
    "                    current_ssim = ssim(target_img, output_img, data_range=1.0, channel_axis=-1)\n",
    "\n",
    "                    if current_psnr - best_psnr >= 0.001:\n",
    "                        best_psnr = current_psnr\n",
    "                        best_model = model.state_dict()\n",
    "                        # no_improvement_count = 0\n",
    "                    else:\n",
    "                        no_improvement_count += 1\n",
    "\n",
    "                    if no_improvement_count >= patience:\n",
    "                        print(f\"Early stopping at epoch {epoch} in schedule {schedule_name}, stage {stage + 1}\")\n",
    "                        break\n",
    "\n",
    "        model.load_state_dict(best_model)\n",
    "        psnr_results.append(best_psnr)\n",
    "        ssim_results.append(current_ssim)\n",
    "\n",
    "    return psnr_results, ssim_results"
   ]
  },
  {
   "cell_type": "markdown",
   "id": "87b37aea",
   "metadata": {
    "id": "D96PkZj5OOvh",
    "papermill": {
     "duration": 0.007057,
     "end_time": "2024-06-02T07:11:30.627421",
     "exception": false,
     "start_time": "2024-06-02T07:11:30.620364",
     "status": "completed"
    },
    "tags": []
   },
   "source": [
    "## Training"
   ]
  },
  {
   "cell_type": "code",
   "execution_count": 11,
   "id": "2e69d0bc",
   "metadata": {
    "execution": {
     "iopub.execute_input": "2024-06-02T07:11:30.643482Z",
     "iopub.status.busy": "2024-06-02T07:11:30.643200Z",
     "iopub.status.idle": "2024-06-02T07:14:49.666387Z",
     "shell.execute_reply": "2024-06-02T07:14:49.665065Z"
    },
    "id": "-63Fj44fOegq",
    "outputId": "64c3a865-f621-47f7-8e40-ce0bbafcdb0b",
    "papermill": {
     "duration": 199.034053,
     "end_time": "2024-06-02T07:14:49.669079",
     "exception": false,
     "start_time": "2024-06-02T07:11:30.635026",
     "status": "completed"
    },
    "tags": []
   },
   "outputs": [
    {
     "name": "stdout",
     "output_type": "stream",
     "text": [
      "Training on schedule gradual, stage 1 with noise level 0.1\n"
     ]
    },
    {
     "name": "stderr",
     "output_type": "stream",
     "text": [
      "100%|██████████| 500/500 [00:20<00:00, 24.85it/s]\n"
     ]
    },
    {
     "name": "stdout",
     "output_type": "stream",
     "text": [
      "Training on schedule gradual, stage 2 with noise level 0.05\n"
     ]
    },
    {
     "name": "stderr",
     "output_type": "stream",
     "text": [
      " 67%|██████▋   | 670/1000 [00:25<00:12, 26.17it/s]\n"
     ]
    },
    {
     "name": "stdout",
     "output_type": "stream",
     "text": [
      "Early stopping at epoch 670 in schedule gradual, stage 2\n",
      "Training on schedule gradual, stage 3 with noise level 0.025\n"
     ]
    },
    {
     "name": "stderr",
     "output_type": "stream",
     "text": [
      " 40%|████      | 600/1500 [00:23<00:34, 25.81it/s]\n"
     ]
    },
    {
     "name": "stdout",
     "output_type": "stream",
     "text": [
      "Early stopping at epoch 600 in schedule gradual, stage 3\n",
      "Training on schedule fast, stage 1 with noise level 0.1\n"
     ]
    },
    {
     "name": "stderr",
     "output_type": "stream",
     "text": [
      "100%|██████████| 500/500 [00:17<00:00, 28.89it/s]\n"
     ]
    },
    {
     "name": "stdout",
     "output_type": "stream",
     "text": [
      "Training on schedule fast, stage 2 with noise level 0.01\n"
     ]
    },
    {
     "name": "stderr",
     "output_type": "stream",
     "text": [
      " 88%|████████▊ | 880/1000 [00:30<00:04, 28.52it/s]\n"
     ]
    },
    {
     "name": "stdout",
     "output_type": "stream",
     "text": [
      "Early stopping at epoch 880 in schedule fast, stage 2\n",
      "Training on schedule fast, stage 3 with noise level 0.001\n"
     ]
    },
    {
     "name": "stderr",
     "output_type": "stream",
     "text": [
      " 39%|███▉      | 590/1500 [00:21<00:32, 28.01it/s]\n"
     ]
    },
    {
     "name": "stdout",
     "output_type": "stream",
     "text": [
      "Early stopping at epoch 590 in schedule fast, stage 3\n",
      "Training on schedule slow, stage 1 with noise level 0.1\n"
     ]
    },
    {
     "name": "stderr",
     "output_type": "stream",
     "text": [
      "100%|██████████| 500/500 [00:17<00:00, 28.06it/s]\n"
     ]
    },
    {
     "name": "stdout",
     "output_type": "stream",
     "text": [
      "Training on schedule slow, stage 2 with noise level 0.075\n"
     ]
    },
    {
     "name": "stderr",
     "output_type": "stream",
     "text": [
      " 58%|█████▊    | 580/1000 [00:20<00:14, 28.29it/s]\n"
     ]
    },
    {
     "name": "stdout",
     "output_type": "stream",
     "text": [
      "Early stopping at epoch 580 in schedule slow, stage 2\n",
      "Training on schedule slow, stage 3 with noise level 0.05\n"
     ]
    },
    {
     "name": "stderr",
     "output_type": "stream",
     "text": [
      " 39%|███▊      | 580/1500 [00:20<00:32, 28.34it/s]"
     ]
    },
    {
     "name": "stdout",
     "output_type": "stream",
     "text": [
      "Early stopping at epoch 580 in schedule slow, stage 3\n"
     ]
    },
    {
     "name": "stderr",
     "output_type": "stream",
     "text": [
      "\n"
     ]
    }
   ],
   "source": [
    "results = {}\n",
    "for schedule_name, noise_levels in schedules.items():\n",
    "    psnr_results, ssim_results = train_schedule(schedule_name, noise_levels, epochs_per_stage)\n",
    "    results[schedule_name] = {\n",
    "        \"psnr\": psnr_results,\n",
    "        \"ssim\": ssim_results\n",
    "    }"
   ]
  },
  {
   "cell_type": "markdown",
   "id": "fe918718",
   "metadata": {
    "id": "2gZhGE78Ojmy",
    "papermill": {
     "duration": 0.059808,
     "end_time": "2024-06-02T07:14:49.789626",
     "exception": false,
     "start_time": "2024-06-02T07:14:49.729818",
     "status": "completed"
    },
    "tags": []
   },
   "source": [
    "## Visulize the result"
   ]
  },
  {
   "cell_type": "code",
   "execution_count": 12,
   "id": "8773d7ea",
   "metadata": {
    "execution": {
     "iopub.execute_input": "2024-06-02T07:14:49.904550Z",
     "iopub.status.busy": "2024-06-02T07:14:49.903973Z",
     "iopub.status.idle": "2024-06-02T07:14:49.910460Z",
     "shell.execute_reply": "2024-06-02T07:14:49.909573Z"
    },
    "id": "I8CSGPp8DNbM",
    "papermill": {
     "duration": 0.065615,
     "end_time": "2024-06-02T07:14:49.912906",
     "exception": false,
     "start_time": "2024-06-02T07:14:49.847291",
     "status": "completed"
    },
    "tags": []
   },
   "outputs": [
    {
     "name": "stdout",
     "output_type": "stream",
     "text": [
      "PSNR results for gradual: ['31.0872', '33.9222', '36.4097']\n",
      "SSIM results for gradual: ['0.7957', '0.8689', '0.9195']\n",
      "PSNR results for fast: ['30.2692', '38.9318', '41.8508']\n",
      "SSIM results for fast: ['0.7682', '0.9553', '0.9807']\n",
      "PSNR results for slow: ['31.1054', '32.4625', '34.0224']\n",
      "SSIM results for slow: ['0.7993', '0.8352', '0.8718']\n"
     ]
    }
   ],
   "source": [
    "for schedule_name, metrics in results.items():\n",
    "    psnr_formatted = [f'{val:.4f}' for val in metrics[\"psnr\"]]\n",
    "    ssim_formatted = [f'{val:.4f}' for val in metrics[\"ssim\"]]\n",
    "    print(f'PSNR results for {schedule_name}: {psnr_formatted}')\n",
    "    print(f'SSIM results for {schedule_name}: {ssim_formatted}')"
   ]
  },
  {
   "cell_type": "code",
   "execution_count": 13,
   "id": "0aec7b74",
   "metadata": {
    "execution": {
     "iopub.execute_input": "2024-06-02T07:14:50.018432Z",
     "iopub.status.busy": "2024-06-02T07:14:50.017642Z",
     "iopub.status.idle": "2024-06-02T07:14:50.348614Z",
     "shell.execute_reply": "2024-06-02T07:14:50.347660Z"
    },
    "id": "VGB1GtC0Olw7",
    "papermill": {
     "duration": 0.385667,
     "end_time": "2024-06-02T07:14:50.350767",
     "exception": false,
     "start_time": "2024-06-02T07:14:49.965100",
     "status": "completed"
    },
    "tags": []
   },
   "outputs": [
    {
     "name": "stdout",
     "output_type": "stream",
     "text": [
      "Average PSNR for gradual: 33.8064\n",
      "Average PSNR for fast: 37.0172\n",
      "Average PSNR for slow: 32.5301\n"
     ]
    },
    {
     "data": {
      "image/png": "[encoded data removed]",
      "text/plain": [
       "<Figure size 600x400 with 1 Axes>"
      ]
     },
     "metadata": {},
     "output_type": "display_data"
    }
   ],
   "source": [
    "plt.figure(figsize=(6, 4))\n",
    "for schedule_name, metrics in results.items():\n",
    "    plt.plot(metrics[\"psnr\"], label=f'{schedule_name} PSNR')\n",
    "    avg_psnr = np.mean(metrics[\"psnr\"])\n",
    "    print(f'Average PSNR for {schedule_name}: {avg_psnr:.4f}')\n",
    "plt.xlabel('Stages')\n",
    "plt.ylabel('PSNR')\n",
    "plt.legend()\n",
    "plt.title('PSNR in different levels for increasing epochs')\n",
    "plt.show()"
   ]
  },
  {
   "cell_type": "code",
   "execution_count": 14,
   "id": "6c36620f",
   "metadata": {
    "execution": {
     "iopub.execute_input": "2024-06-02T07:14:50.463072Z",
     "iopub.status.busy": "2024-06-02T07:14:50.462277Z",
     "iopub.status.idle": "2024-06-02T07:14:50.776990Z",
     "shell.execute_reply": "2024-06-02T07:14:50.775958Z"
    },
    "id": "95JgPszpfjTY",
    "papermill": {
     "duration": 0.37237,
     "end_time": "2024-06-02T07:14:50.779040",
     "exception": false,
     "start_time": "2024-06-02T07:14:50.406670",
     "status": "completed"
    },
    "tags": []
   },
   "outputs": [
    {
     "name": "stdout",
     "output_type": "stream",
     "text": [
      "Average SSIM for gradual: 0.8614\n",
      "Average SSIM for fast: 0.9014\n",
      "Average SSIM for slow: 0.8354\n"
     ]
    },
    {
     "data": {
      "image/png": "[encoded data removed]",
      "text/plain": [
       "<Figure size 600x400 with 1 Axes>"
      ]
     },
     "metadata": {},
     "output_type": "display_data"
    }
   ],
   "source": [
    "plt.figure(figsize=(6, 4))\n",
    "for schedule_name, metrics in results.items():\n",
    "    plt.plot(metrics[\"ssim\"], label=f'{schedule_name} SSIM')\n",
    "    avg_ssim = np.mean(metrics[\"ssim\"])\n",
    "    print(f'Average SSIM for {schedule_name}: {avg_ssim:.4f}')\n",
    "plt.xlabel('Stages')\n",
    "plt.ylabel('SSIM')\n",
    "plt.legend()\n",
    "plt.title('SSIM in different levels for increasing schedules')\n",
    "plt.show()"
   ]
  }
 ],
 "metadata": {
  "accelerator": "GPU",
  "colab": {
   "gpuType": "T4",
   "provenance": []
  },
  "kaggle": {
   "accelerator": "nvidiaTeslaT4",
   "dataSources": [
    {
     "datasetId": 5123526,
     "sourceId": 8569141,
     "sourceType": "datasetVersion"
    }
   ],
   "dockerImageVersionId": 30716,
   "isGpuEnabled": true,
   "isInternetEnabled": true,
   "language": "python",
   "sourceType": "notebook"
  },
  "kernelspec": {
   "display_name": "Python 3",
   "language": "python",
   "name": "python3"
  },
  "language_info": {
   "codemirror_mode": {
    "name": "ipython",
    "version": 3
   },
   "file_extension": ".py",
   "mimetype": "text/x-python",
   "name": "python",
   "nbconvert_exporter": "python",
   "pygments_lexer": "ipython3",
   "version": "3.10.13"
  },
  "papermill": {
   "default_parameters": {},
   "duration": 211.205185,
   "end_time": "2024-06-02T07:14:52.402010",
   "environment_variables": {},
   "exception": null,
   "input_path": "__notebook__.ipynb",
   "output_path": "__notebook__.ipynb",
   "parameters": {},
   "start_time": "2024-06-02T07:11:21.196825",
   "version": "2.5.0"
  }
 },
 "nbformat": 4,
 "nbformat_minor": 5
}
