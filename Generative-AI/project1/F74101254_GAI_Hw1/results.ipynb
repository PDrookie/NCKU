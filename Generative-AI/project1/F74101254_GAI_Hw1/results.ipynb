{
  "nbformat": 4,
  "nbformat_minor": 0,
  "metadata": {
    "colab": {
      "provenance": [],
      "collapsed_sections": [
        "WaVxoq2lsMVJ",
        "e3TRuBby--6p",
        "YMM-YXbT_Eqy",
        "JBMMfnDhEoUX",
        "k3t6GUCsHNdN",
        "XvrLwjdsPrKV",
        "q9I-YkPG-YLx",
        "zcQMA9P0yRRp",
        "1nmiRMZizUB7",
        "z-eDjtTveDce",
        "mGBSZd54iaUU",
        "5DvzSSfFiaSM"
      ]
    },
    "kernelspec": {
      "name": "python3",
      "display_name": "Python 3"
    },
    "language_info": {
      "name": "python"
    }
  },
  "cells": [
    {
      "cell_type": "markdown",
      "source": [
        "## ***GAI 2024 Project1***"
      ],
      "metadata": {
        "id": "WaVxoq2lsMVJ"
      }
    },
    {
      "cell_type": "code",
      "execution_count": 26,
      "metadata": {
        "id": "eNH0N-aJLsQj"
      },
      "outputs": [],
      "source": [
        "import sklearn\n",
        "\n",
        "# 處理資料時會用到的工具\n",
        "\n",
        "import numpy as np\n",
        "import pandas as pd\n",
        "import matplotlib.pyplot as plt\n",
        "import seaborn as sns\n",
        "\n",
        "from matplotlib.dates import DateFormatter\n",
        "import matplotlib.dates as mdates\n",
        "\n",
        "# 儲存模型的工具\n",
        "import pickle\n",
        "\n",
        "# data frame\n",
        "df = pd.read_csv('./data/467410-2022-08.csv')"
      ]
    },
    {
      "cell_type": "markdown",
      "source": [
        "## ***numpy 練習1***"
      ],
      "metadata": {
        "id": "e3TRuBby--6p"
      }
    },
    {
      "cell_type": "code",
      "source": [
        "# 設定總共類別\n",
        "c = 10\n",
        "# 模擬輸出 logits\n",
        "x = np.random.rand(c)\n",
        "# 輸出logits結果\n",
        "print('logits結果：', x)"
      ],
      "metadata": {
        "id": "uokKXwTb_Tdm",
        "colab": {
          "base_uri": "https://localhost:8080/"
        },
        "outputId": "5113d073-9c7f-4d31-c0e0-0a9a72f3577d"
      },
      "execution_count": 27,
      "outputs": [
        {
          "output_type": "stream",
          "name": "stdout",
          "text": [
            "logits結果： [0.12347148 0.28540464 0.85919612 0.73810106 0.12532976 0.01332304\n",
            " 0.91495444 0.30777427 0.59184644 0.83812959]\n"
          ]
        }
      ]
    },
    {
      "cell_type": "code",
      "source": [
        "# 運算softmax結果\n",
        "def softmax(x):\n",
        "    e_x = np.exp(x)\n",
        "    return e_x / e_x.sum()\n",
        "# 輸出softmax結果\n",
        "print('softmax結果：', softmax(x))"
      ],
      "metadata": {
        "id": "fqStuIGh68Kz",
        "colab": {
          "base_uri": "https://localhost:8080/"
        },
        "outputId": "3456f6aa-e96b-4b28-d44e-efee3c829868"
      },
      "execution_count": 28,
      "outputs": [
        {
          "output_type": "stream",
          "name": "stdout",
          "text": [
            "softmax結果： [0.06640442 0.0780771  0.13858561 0.12277988 0.06652793 0.05947852\n",
            " 0.1465324  0.07984334 0.10607417 0.13569663]\n"
          ]
        }
      ]
    },
    {
      "cell_type": "markdown",
      "source": [
        "## ***numpy練習2***"
      ],
      "metadata": {
        "id": "YMM-YXbT_Eqy"
      }
    },
    {
      "cell_type": "code",
      "source": [
        "# 設定輸入維度\n",
        "d_in = 10\n",
        "# 設定輸出維度\n",
        "d_out = 30\n",
        "\n",
        "# 模擬神經網路輸入\n",
        "x = np.ones((d_in, 1))\n",
        "# 模擬神經網路權重\n",
        "W = np.random.rand(d_out, d_in) * 10 - 5\n",
        "# 模擬神經網路偏差值\n",
        "b = np.random.rand(d_out, 1) * 10 - 5\n",
        "# 輸出input\n",
        "print('神經網路輸入：')\n",
        "print(x)"
      ],
      "metadata": {
        "id": "cDExGWYt-94n",
        "colab": {
          "base_uri": "https://localhost:8080/"
        },
        "outputId": "6bb089d3-9cd7-4fa0-cfd2-9b812edee267"
      },
      "execution_count": 29,
      "outputs": [
        {
          "output_type": "stream",
          "name": "stdout",
          "text": [
            "神經網路輸入：\n",
            "[[1.]\n",
            " [1.]\n",
            " [1.]\n",
            " [1.]\n",
            " [1.]\n",
            " [1.]\n",
            " [1.]\n",
            " [1.]\n",
            " [1.]\n",
            " [1.]]\n"
          ]
        }
      ]
    },
    {
      "cell_type": "code",
      "source": [
        "def ReLU(parameter):\n",
        "   res = np.maximum(0, parameter)\n",
        "   return res\n",
        "\n",
        "Wx = np.matmul(W, x)\n",
        "p = Wx + b\n",
        "# 輸出output\n",
        "print('神經網路輸出：')\n",
        "print(ReLU(p))"
      ],
      "metadata": {
        "id": "YJ4Bn-fd--Ap",
        "colab": {
          "base_uri": "https://localhost:8080/"
        },
        "outputId": "818ca6cc-53bc-4abe-8131-b7e3dc93ba9a"
      },
      "execution_count": 30,
      "outputs": [
        {
          "output_type": "stream",
          "name": "stdout",
          "text": [
            "神經網路輸出：\n",
            "[[10.72611121]\n",
            " [16.5297252 ]\n",
            " [12.79284646]\n",
            " [ 1.19459298]\n",
            " [ 0.        ]\n",
            " [ 3.51935323]\n",
            " [ 5.66231275]\n",
            " [ 0.        ]\n",
            " [ 0.        ]\n",
            " [ 0.        ]\n",
            " [ 0.        ]\n",
            " [ 0.        ]\n",
            " [ 0.        ]\n",
            " [ 0.11842641]\n",
            " [12.88349233]\n",
            " [15.47818179]\n",
            " [ 7.31924879]\n",
            " [ 7.91731389]\n",
            " [ 0.        ]\n",
            " [ 3.98288189]\n",
            " [ 0.        ]\n",
            " [ 6.62373517]\n",
            " [ 0.        ]\n",
            " [11.91301901]\n",
            " [ 7.39655564]\n",
            " [ 7.34631301]\n",
            " [ 9.77670516]\n",
            " [ 2.7944669 ]\n",
            " [25.89795777]\n",
            " [10.52572833]]\n"
          ]
        }
      ]
    },
    {
      "cell_type": "markdown",
      "source": [
        "## ***Pandas練習1***"
      ],
      "metadata": {
        "id": "JBMMfnDhEoUX"
      }
    },
    {
      "cell_type": "code",
      "source": [
        "def data_change(UV01: np.float64) -> str:\n",
        "    if 0 <= UV01 and UV01 < 3:\n",
        "      data = '低'\n",
        "    elif 3 <= UV01 and UV01 < 6:\n",
        "      data = '中'\n",
        "    elif 6 <= UV01 and UV01 < 8:\n",
        "      data = '高'\n",
        "    elif 8 <= UV01 and UV01 < 11:\n",
        "      data = '甚高'\n",
        "    else:\n",
        "      data = '極高'\n",
        "    return data\n",
        "\n",
        "# 將UV01列中的數據轉換為紫外線強度等級並新增一個名為'紫外線強度等級'的列\n",
        "df_include_UVlevel = df.assign(紫外線強度等級 = df['日最高紫外線指數'].apply(data_change))\n",
        "print(df_include_UVlevel)"
      ],
      "metadata": {
        "id": "lv_apf60EodY",
        "colab": {
          "base_uri": "https://localhost:8080/"
        },
        "outputId": "5c5d0538-a791-4187-cc44-a61d6130eb68"
      },
      "execution_count": 31,
      "outputs": [
        {
          "output_type": "stream",
          "name": "stdout",
          "text": [
            "    觀測時間(day)  測站氣壓(hPa)  海平面氣壓(hPa)  測站最高氣壓(hPa)    測站最高氣壓時間(LST)  \\\n",
            "0           1     1004.2      1007.3       1005.5   2022/8/1 22:09   \n",
            "1           2     1005.9      1009.0       1008.1   2022/8/2 10:34   \n",
            "2           3     1006.1      1009.1       1007.3   2022/8/3 22:08   \n",
            "3           4     1006.7      1009.8       1008.5   2022/8/4 21:33   \n",
            "4           5     1006.7      1009.8       1007.7    2022/8/5 0:01   \n",
            "5           6     1005.5      1008.5       1007.3    2022/8/6 0:01   \n",
            "6           7     1005.3      1008.4       1007.3   2022/8/7 23:00   \n",
            "7           8     1005.4      1008.5       1007.0    2022/8/8 0:01   \n",
            "8           9     1005.1      1008.2       1006.8   2022/8/9 22:13   \n",
            "9          10     1005.7      1008.8       1007.8  2022/8/10 21:25   \n",
            "10         11     1006.7      1009.8       1008.5  2022/8/11 22:16   \n",
            "11         12     1006.6      1009.7       1007.8  2022/8/12 10:01   \n",
            "12         13     1005.9      1009.0       1006.7   2022/8/13 0:01   \n",
            "13         14     1004.9      1007.9       1006.1   2022/8/14 0:01   \n",
            "14         15     1004.1      1007.2       1005.1  2022/8/15 21:49   \n",
            "15         16     1004.3      1007.4       1006.0  2022/8/16 22:42   \n",
            "16         17     1004.8      1007.9       1006.4  2022/8/17 21:48   \n",
            "17         18     1004.5      1007.6       1005.8  2022/8/18 22:53   \n",
            "18         19     1005.4      1008.5       1007.9  2022/8/19 22:15   \n",
            "19         20     1007.2      1010.2       1008.5  2022/8/20 21:33   \n",
            "20         21     1005.7      1008.7       1007.7   2022/8/21 0:01   \n",
            "21         22     1003.6      1006.6       1005.2   2022/8/22 9:10   \n",
            "22         23     1002.6      1005.6       1004.3   2022/8/23 9:13   \n",
            "23         24     1003.4      1006.4       1007.1  2022/8/24 23:12   \n",
            "24         25     1007.8      1010.8       1010.4  2022/8/25 22:01   \n",
            "25         26     1008.1      1011.1       1009.9   2022/8/26 0:01   \n",
            "26         27     1005.9      1008.9       1008.5   2022/8/27 0:01   \n",
            "27         28     1006.5      1009.5       1008.5  2022/8/28 22:47   \n",
            "28         29     1007.4      1010.5       1008.6  2022/8/29 11:11   \n",
            "29         30     1005.6      1008.6       1008.0   2022/8/30 0:01   \n",
            "30         31     1003.1      1006.1       1004.8   2022/8/31 0:01   \n",
            "\n",
            "    測站最低氣壓(hPa)    測站最低氣壓時間(LST)  氣溫(℃)  最高氣溫(℃)      最高氣溫時間(LST)  ...  \\\n",
            "0        1002.6    2022/8/1 2:00   29.3     33.2   2022/8/1 11:37  ...   \n",
            "1        1003.9   2022/8/2 16:38   27.5     28.9    2022/8/2 0:01  ...   \n",
            "2        1004.6   2022/8/3 14:55   28.7     32.3   2022/8/3 11:07  ...   \n",
            "3        1005.4    2022/8/4 3:45   29.2     33.6   2022/8/4 12:51  ...   \n",
            "4        1004.8   2022/8/5 16:08   29.7     34.1   2022/8/5 12:16  ...   \n",
            "5        1003.4   2022/8/6 15:37   29.6     33.1   2022/8/6 10:37  ...   \n",
            "6        1003.4   2022/8/7 14:23   28.7     33.5   2022/8/7 11:55  ...   \n",
            "7        1003.2   2022/8/8 15:21   29.5     34.3   2022/8/8 14:44  ...   \n",
            "8        1003.6   2022/8/9 15:12   29.1     33.4   2022/8/9 12:04  ...   \n",
            "9        1003.7   2022/8/10 5:50   28.9     34.9  2022/8/10 13:40  ...   \n",
            "10       1005.0  2022/8/11 14:45   28.8     32.7  2022/8/11 10:53  ...   \n",
            "11       1005.5   2022/8/12 5:04   28.6     33.3  2022/8/12 12:18  ...   \n",
            "12       1004.5  2022/8/13 15:43   29.2     33.0  2022/8/13 15:11  ...   \n",
            "13       1003.5  2022/8/14 16:11   30.2     33.6  2022/8/14 13:48  ...   \n",
            "14       1002.9  2022/8/15 13:51   28.8     33.1  2022/8/15 13:36  ...   \n",
            "15       1002.8  2022/8/16 14:42   28.8     33.9  2022/8/16 11:34  ...   \n",
            "16       1002.9  2022/8/17 15:31   28.5     32.2  2022/8/17 11:51  ...   \n",
            "17       1003.0   2022/8/18 4:12   27.1     31.1  2022/8/18 10:22  ...   \n",
            "18       1003.8   2022/8/19 2:35   29.1     32.5  2022/8/19 12:24  ...   \n",
            "19       1006.1  2022/8/20 15:31   30.0     33.3  2022/8/20 12:09  ...   \n",
            "20       1004.3  2022/8/21 15:10   30.0     33.0  2022/8/21 14:10  ...   \n",
            "21       1001.8  2022/8/22 17:16   30.5     33.4  2022/8/22 13:08  ...   \n",
            "22       1000.4  2022/8/23 17:11   31.1     34.3  2022/8/23 14:23  ...   \n",
            "23       1000.6   2022/8/24 3:16   30.5     32.2  2022/8/24 14:41  ...   \n",
            "24       1005.6   2022/8/25 3:38   30.5     33.7  2022/8/25 10:52  ...   \n",
            "25       1006.5  2022/8/26 15:08   30.6     33.4  2022/8/26 11:48  ...   \n",
            "26       1003.3  2022/8/27 16:22   30.7     33.9  2022/8/27 13:16  ...   \n",
            "27       1004.8   2022/8/28 4:24   29.2     34.2  2022/8/28 10:33  ...   \n",
            "28       1006.0  2022/8/29 16:03   28.7     32.1  2022/8/29 12:57  ...   \n",
            "29       1003.6  2022/8/30 15:21   29.8     33.0  2022/8/30 13:24  ...   \n",
            "30       1000.7  2022/8/31 15:30   30.0     33.7  2022/8/31 12:39  ...   \n",
            "\n",
            "    最大六十分鐘降水量(mm) 最大六十分鐘降水量起始時間(LST)  日照時數(hour)  日照率(%)  全天空日射量(MJ/㎡)  \\\n",
            "0               T     2022/8/1 16:24         3.1    23.4         17.11   \n",
            "1            67.5      2022/8/2 9:42         0.0     0.0          6.34   \n",
            "2               T     2022/8/3 13:56         1.0     7.6         13.75   \n",
            "3               2     2022/8/4 20:09         8.7    65.8         23.29   \n",
            "4               1     2022/8/5 19:13         7.7    59.0         22.17   \n",
            "5             0.5     2022/8/6 14:50         7.4    56.8         21.40   \n",
            "6              35     2022/8/7 14:40         3.9    30.0         12.47   \n",
            "7               0                 --         8.2    62.4         20.74   \n",
            "8              11     2022/8/9 13:40         4.0    30.8         13.18   \n",
            "9              19    2022/8/10 16:04         7.2    54.9         20.33   \n",
            "10            1.5    2022/8/11 19:00         6.9    52.7         19.80   \n",
            "11              2    2022/8/12 17:29         8.1    62.7         22.08   \n",
            "12              0                 --         8.1    62.1         21.62   \n",
            "13              0                 --         7.7    59.8         20.89   \n",
            "14           18.5    2022/8/15 14:33         2.8    21.5         12.11   \n",
            "15           14.5    2022/8/16 14:02         6.9    53.7         18.03   \n",
            "16             17    2022/8/17 17:43         4.2    32.4         18.91   \n",
            "17             29    2022/8/18 12:47         1.0     7.8          8.92   \n",
            "18              0                 --        11.7    91.5         26.61   \n",
            "19              0                 --        11.9    93.3         26.81   \n",
            "20              0                 --        10.9    85.6         25.90   \n",
            "21              0                 --        11.2    88.1         26.50   \n",
            "22              0                 --         9.2    72.5         23.74   \n",
            "23              T     2022/8/24 0:06         2.2    17.4         11.25   \n",
            "24              0                 --        11.1    86.8         25.60   \n",
            "25              0                 --        11.2    88.7         25.86   \n",
            "26              0                 --         8.7    69.0         22.87   \n",
            "27            3.5    2022/8/28 15:36         5.2    40.9         14.46   \n",
            "28              T    2022/8/29 17:39         8.0    63.7         21.22   \n",
            "29              T    2022/8/30 18:54         8.2    64.6         23.44   \n",
            "30              0                 --         7.2    57.5         19.37   \n",
            "\n",
            "   能見度(km)  日最高紫外線指數  日最高紫外線指數時間(LST)  總雲量(0~10)  紫外線強度等級  \n",
            "0     20.0        11   2022/8/1 12:00        9.0       極高  \n",
            "1     14.0         4   2022/8/2 14:00        9.6        中  \n",
            "2     34.0        11   2022/8/3 11:00        9.4       極高  \n",
            "3     26.0        11   2022/8/4 11:00        5.0       極高  \n",
            "4     48.0        14   2022/8/5 12:00        6.4       極高  \n",
            "5     35.0        12   2022/8/6 13:00        5.6       極高  \n",
            "6     21.6         8   2022/8/7 12:00        7.2       甚高  \n",
            "7     17.4        11   2022/8/8 11:00        5.4       極高  \n",
            "8      9.2         7   2022/8/9 12:00        8.0        高  \n",
            "9     22.0        13  2022/8/10 13:00        4.6       極高  \n",
            "10    34.0        10  2022/8/11 12:00        4.6       甚高  \n",
            "11    26.4        15  2022/8/12 13:00        5.4       極高  \n",
            "12    29.0        14  2022/8/13 13:00        5.8       極高  \n",
            "13    62.0        12  2022/8/14 14:00        4.4       極高  \n",
            "14    24.0         8  2022/8/15 14:00        8.2       甚高  \n",
            "15    22.0        11  2022/8/16 11:00        5.4       極高  \n",
            "16    40.0        13  2022/8/17 13:00        7.2       極高  \n",
            "17    22.0         7  2022/8/18 10:00        9.8        高  \n",
            "18    45.0        14  2022/8/19 13:00        3.0       極高  \n",
            "19    20.0        13  2022/8/20 12:00        1.6       極高  \n",
            "20    28.0        13  2022/8/21 12:00        7.4       極高  \n",
            "21    43.0        14  2022/8/22 13:00        3.0       極高  \n",
            "22    32.0        13  2022/8/23 13:00        5.2       極高  \n",
            "23    15.6         8  2022/8/24 12:00        8.6       甚高  \n",
            "24    46.0        14  2022/8/25 12:00        3.6       極高  \n",
            "25    40.0        13  2022/8/26 13:00        7.0       極高  \n",
            "26    43.0        13  2022/8/27 13:00        6.6       極高  \n",
            "27    15.4        12  2022/8/28 12:00        6.6       極高  \n",
            "28    30.0        11  2022/8/29 13:00        5.4       極高  \n",
            "29    22.0        13  2022/8/30 12:00        6.2       極高  \n",
            "30    16.4        13  2022/8/31 13:00        5.8       極高  \n",
            "\n",
            "[31 rows x 35 columns]\n"
          ]
        }
      ]
    },
    {
      "cell_type": "code",
      "source": [
        "level_counts = {'低': 0, '中': 0, '高': 0, '甚高': 0, '極高': 0}\n",
        "\n",
        "# 計算每個等級的出現次數\n",
        "for index, row in df_include_UVlevel.iterrows():\n",
        "    level = row['紫外線強度等級']\n",
        "    level_counts[level] += 1\n",
        "\n",
        "# 輸出計數\n",
        "print('每個等級出現次數：')\n",
        "for level, count in level_counts.items():\n",
        "    print(f'{level}: {count}')"
      ],
      "metadata": {
        "colab": {
          "base_uri": "https://localhost:8080/"
        },
        "id": "4VxpruCbDXLV",
        "outputId": "e66bdab9-57ed-40db-cdb8-7b763ffce520"
      },
      "execution_count": 32,
      "outputs": [
        {
          "output_type": "stream",
          "name": "stdout",
          "text": [
            "每個等級出現次數：\n",
            "低: 0\n",
            "中: 1\n",
            "高: 2\n",
            "甚高: 4\n",
            "極高: 24\n"
          ]
        }
      ]
    },
    {
      "cell_type": "markdown",
      "source": [
        "## ***Pandas練習2***"
      ],
      "metadata": {
        "id": "k3t6GUCsHNdN"
      }
    },
    {
      "cell_type": "code",
      "source": [
        "def intensity(rain: np.float64, hours: np.float64) -> float:\n",
        "    rain = rain.replace('T', 0).astype(float)\n",
        "    res = np.divide(rain, hours)\n",
        "    return np.round(res, 2)\n",
        "\n",
        "# 輸出降水強度\n",
        "df['降水強度'] = intensity(df['降水量(mm)'], df['降水時數(hour)']).fillna(0)\n",
        "print(df['降水強度'])"
      ],
      "metadata": {
        "colab": {
          "base_uri": "https://localhost:8080/"
        },
        "id": "ple_7IsfHThK",
        "outputId": "3bc0f1b8-fa0b-4758-89c3-8229efc8a837"
      },
      "execution_count": 33,
      "outputs": [
        {
          "output_type": "stream",
          "name": "stdout",
          "text": [
            "0      0.00\n",
            "1     25.28\n",
            "2      0.00\n",
            "3      2.86\n",
            "4      1.25\n",
            "5      0.56\n",
            "6     13.04\n",
            "7      0.00\n",
            "8      6.76\n",
            "9      9.35\n",
            "10     0.77\n",
            "11     1.30\n",
            "12     0.00\n",
            "13     0.00\n",
            "14     8.20\n",
            "15     9.05\n",
            "16     6.51\n",
            "17    12.92\n",
            "18     0.00\n",
            "19     0.00\n",
            "20     0.00\n",
            "21     0.00\n",
            "22     0.00\n",
            "23     0.00\n",
            "24     0.00\n",
            "25     0.00\n",
            "26     0.00\n",
            "27     1.55\n",
            "28     0.00\n",
            "29     0.00\n",
            "30     0.00\n",
            "Name: 降水強度, dtype: float64\n"
          ]
        }
      ]
    },
    {
      "cell_type": "code",
      "source": [
        "# 算出平均降水強度\n",
        "mean_intensity = df['降水強度'].mean()\n",
        "\n",
        "# 製作dataframe\n",
        "new_rows = []\n",
        "\n",
        "for index, row in df.iterrows():\n",
        "    cal = row['降水強度']\n",
        "    if cal > mean_intensity:\n",
        "      new_rows.append(row)\n",
        "\n",
        "df_greater_than_mean = pd.concat(new_rows, axis=1).T\n",
        "\n",
        "# 輸出比平均降水強度大之日期等相關資訊\n",
        "print(df_greater_than_mean)"
      ],
      "metadata": {
        "colab": {
          "base_uri": "https://localhost:8080/"
        },
        "id": "KFVLFM5JJswH",
        "outputId": "c8372398-2adf-48d3-c7bb-e5ae923fcedf"
      },
      "execution_count": 34,
      "outputs": [
        {
          "output_type": "stream",
          "name": "stdout",
          "text": [
            "   觀測時間(day) 測站氣壓(hPa) 海平面氣壓(hPa) 測站最高氣壓(hPa)    測站最高氣壓時間(LST) 測站最低氣壓(hPa)  \\\n",
            "1          2    1005.9     1009.0      1008.1   2022/8/2 10:34      1003.9   \n",
            "6          7    1005.3     1008.4      1007.3   2022/8/7 23:00      1003.4   \n",
            "8          9    1005.1     1008.2      1006.8   2022/8/9 22:13      1003.6   \n",
            "9         10    1005.7     1008.8      1007.8  2022/8/10 21:25      1003.7   \n",
            "14        15    1004.1     1007.2      1005.1  2022/8/15 21:49      1002.9   \n",
            "15        16    1004.3     1007.4      1006.0  2022/8/16 22:42      1002.8   \n",
            "16        17    1004.8     1007.9      1006.4  2022/8/17 21:48      1002.9   \n",
            "17        18    1004.5     1007.6      1005.8  2022/8/18 22:53      1003.0   \n",
            "\n",
            "      測站最低氣壓時間(LST) 氣溫(℃) 最高氣溫(℃)      最高氣溫時間(LST)  ... 最大六十分鐘降水量(mm)  \\\n",
            "1    2022/8/2 16:38  27.5    28.9    2022/8/2 0:01  ...          67.5   \n",
            "6    2022/8/7 14:23  28.7    33.5   2022/8/7 11:55  ...            35   \n",
            "8    2022/8/9 15:12  29.1    33.4   2022/8/9 12:04  ...            11   \n",
            "9    2022/8/10 5:50  28.9    34.9  2022/8/10 13:40  ...            19   \n",
            "14  2022/8/15 13:51  28.8    33.1  2022/8/15 13:36  ...          18.5   \n",
            "15  2022/8/16 14:42  28.8    33.9  2022/8/16 11:34  ...          14.5   \n",
            "16  2022/8/17 15:31  28.5    32.2  2022/8/17 11:51  ...            17   \n",
            "17   2022/8/18 4:12  27.1    31.1  2022/8/18 10:22  ...            29   \n",
            "\n",
            "   最大六十分鐘降水量起始時間(LST) 日照時數(hour) 日照率(%) 全天空日射量(MJ/㎡) 能見度(km) 日最高紫外線指數  \\\n",
            "1       2022/8/2 9:42        0.0    0.0         6.34    14.0        4   \n",
            "6      2022/8/7 14:40        3.9   30.0        12.47    21.6        8   \n",
            "8      2022/8/9 13:40        4.0   30.8        13.18     9.2        7   \n",
            "9     2022/8/10 16:04        7.2   54.9        20.33    22.0       13   \n",
            "14    2022/8/15 14:33        2.8   21.5        12.11    24.0        8   \n",
            "15    2022/8/16 14:02        6.9   53.7        18.03    22.0       11   \n",
            "16    2022/8/17 17:43        4.2   32.4        18.91    40.0       13   \n",
            "17    2022/8/18 12:47        1.0    7.8         8.92    22.0        7   \n",
            "\n",
            "    日最高紫外線指數時間(LST) 總雲量(0~10)   降水強度  \n",
            "1    2022/8/2 14:00       9.6  25.28  \n",
            "6    2022/8/7 12:00       7.2  13.04  \n",
            "8    2022/8/9 12:00       8.0   6.76  \n",
            "9   2022/8/10 13:00       4.6   9.35  \n",
            "14  2022/8/15 14:00       8.2    8.2  \n",
            "15  2022/8/16 11:00       5.4   9.05  \n",
            "16  2022/8/17 13:00       7.2   6.51  \n",
            "17  2022/8/18 10:00       9.8  12.92  \n",
            "\n",
            "[8 rows x 35 columns]\n"
          ]
        }
      ]
    },
    {
      "cell_type": "markdown",
      "source": [
        "## ***matplotlib練習1***"
      ],
      "metadata": {
        "id": "XvrLwjdsPrKV"
      }
    },
    {
      "cell_type": "code",
      "source": [
        "# 準備 x 軸資料\n",
        "x = df['觀測時間(day)']\n",
        "# 準備 y1 軸資料\n",
        "y1 = df['氣溫(℃)']\n",
        "\n",
        "# 折線圖\n",
        "plt.plot(\n",
        "    x,\n",
        "    y1,\n",
        "    # 設定顏色\n",
        "    color='blue',\n",
        "    # 設定資料點外觀\n",
        "    marker='*'\n",
        ")\n",
        "\n",
        "# 設定 x 軸\n",
        "plt.xlabel('2022-08')\n",
        "plt.gca().xaxis.set_major_formatter(mdates.DateFormatter('%d'))\n",
        "# 設定 y 軸\n",
        "plt.ylabel('Temperature')\n",
        "# 設定標題\n",
        "plt.title('Temperature Change')\n",
        "# 繪製溫度變化圖表\n",
        "plt.show()\n"
      ],
      "metadata": {
        "colab": {
          "base_uri": "https://localhost:8080/",
          "height": 472
        },
        "id": "8drYAkAdIqrY",
        "outputId": "b286e5e6-3a3a-4656-e961-7cdbaac7e62e"
      },
      "execution_count": 35,
      "outputs": [
        {
          "output_type": "display_data",
          "data": {
            "text/plain": [
              "<Figure size 640x480 with 1 Axes>"
            ],
            "image/png": "[encoded data removed]"
          },
          "metadata": {}
        }
      ]
    },
    {
      "cell_type": "code",
      "source": [
        "# 正常顯示負號\n",
        "plt.rcParams['axes.unicode_minus'] = False\n",
        "# 準備 x 軸資料\n",
        "x = df['觀測時間(day)']\n",
        "# 準備 y2 軸資料\n",
        "df['降水量(mm)'] = df['降水量(mm)'].replace('T', 0).astype(float)\n",
        "y2 = df['降水量(mm)']\n",
        "\n",
        "# 折線圖\n",
        "plt.plot(\n",
        "    x,\n",
        "    y2,\n",
        "    # 設定顏色\n",
        "    color='lightblue',\n",
        "    # 設定資料點外觀\n",
        "    marker='*'\n",
        ")\n",
        "\n",
        "# 設定 x 軸\n",
        "plt.xlabel('2022-08')\n",
        "plt.gca().xaxis.set_major_formatter(mdates.DateFormatter('%d'))\n",
        "# 設定 y 軸\n",
        "plt.ylabel('RainFall')\n",
        "# 設定標題\n",
        "plt.title('RainFall Change')\n",
        "# 繪製雨量變化圖表\n",
        "plt.show()"
      ],
      "metadata": {
        "colab": {
          "base_uri": "https://localhost:8080/",
          "height": 472
        },
        "id": "r-FikIGtHR18",
        "outputId": "8e503ed9-f3f8-4f14-91d5-1cc8b90ab0ad"
      },
      "execution_count": 36,
      "outputs": [
        {
          "output_type": "display_data",
          "data": {
            "text/plain": [
              "<Figure size 640x480 with 1 Axes>"
            ],
            "image/png": "[encoded data removed]"
          },
          "metadata": {}
        }
      ]
    },
    {
      "cell_type": "markdown",
      "source": [
        "## ***matplotlib練習2***"
      ],
      "metadata": {
        "id": "q9I-YkPG-YLx"
      }
    },
    {
      "cell_type": "code",
      "source": [
        "def define_plot(dir: np.int64) -> int:\n",
        "  if 0 <= dir and dir <= 90:\n",
        "    plot = 'Q1'\n",
        "  elif 90 < dir and dir <= 180:\n",
        "    plot = 'Q2'\n",
        "  elif 180 < dir and dir <= 270:\n",
        "    plot = 'Q3'\n",
        "  else:\n",
        "    plot = 'Q4'\n",
        "  return plot\n",
        "\n",
        "df['雷達圖區間'] = df['風向(360degree)'].apply(define_plot)\n",
        "# print(df['雷達圖區間'])"
      ],
      "metadata": {
        "id": "GpxILeNjVtuD"
      },
      "execution_count": 37,
      "outputs": []
    },
    {
      "cell_type": "code",
      "source": [
        "windSpeed = {'Q1': 0, 'Q2': 0, 'Q3': 0, 'Q4': 0}\n",
        "count = {'Q1': 0, 'Q2': 0, 'Q3': 0, 'Q4': 0}\n",
        "for index, row in df.iterrows():\n",
        "    plot = row['雷達圖區間']\n",
        "    wind = row['風速(m/s)']\n",
        "    count[plot] += 1\n",
        "    windSpeed[plot] += wind\n",
        "\n",
        "# 求平均\n",
        "for Q, speed in windSpeed.items():\n",
        "    print(f'{Q}: {speed}')\n",
        "for Q, count_val in count.items():\n",
        "    print(f'{Q}: {count_val}')"
      ],
      "metadata": {
        "colab": {
          "base_uri": "https://localhost:8080/"
        },
        "id": "o0t-wv8XnyuS",
        "outputId": "03e8a026-852c-4277-e964-183426bedad8"
      },
      "execution_count": 38,
      "outputs": [
        {
          "output_type": "stream",
          "name": "stdout",
          "text": [
            "Q1: 16.0\n",
            "Q2: 18.2\n",
            "Q3: 21.8\n",
            "Q4: 17.3\n",
            "Q1: 8\n",
            "Q2: 7\n",
            "Q3: 9\n",
            "Q4: 7\n"
          ]
        }
      ]
    },
    {
      "cell_type": "code",
      "source": [
        "# 建立數據\n",
        "Q1avg = windSpeed['Q1'] / count['Q1']\n",
        "Q2avg = windSpeed['Q2'] / count['Q2']\n",
        "Q3avg = windSpeed['Q3'] / count['Q3']\n",
        "Q4avg = windSpeed['Q4'] / count['Q4']\n",
        "\n",
        "values = [Q1avg, Q2avg, Q3avg, Q4avg]\n",
        "features = ['0-90 degree','90-180 degree','180-270 degree','270-360 degree']\n",
        "\n",
        "# 使各個數值能圍成一圓\n",
        "N = len(values)\n",
        "angles = np.linspace(0, 2*np.pi, N, endpoint=False)\n",
        "angles = np.append(angles, angles[0])\n",
        "features = np.append(features, features[0])\n",
        "values = np.append(values, values[0])\n",
        "\n",
        "# 設定圖片細節\n",
        "fig, ax = plt.subplots(figsize=(6, 6), subplot_kw=dict(polar=True))\n",
        "ax.plot(angles, values, 'o-', linewidth = 2)\n",
        "ax.fill(angles, values, alpha = 0.3)\n",
        "ax.set_xticks(angles)\n",
        "ax.set_ylim(top = 3.5)\n",
        "ax.set_xticklabels(features)\n",
        "ax.set_title('Wind Speed Distribution', color = 'black', size = 15)\n",
        "\n",
        "# 繪製風向雷達圖\n",
        "plt.show()"
      ],
      "metadata": {
        "id": "OW_r7CxhozL9",
        "colab": {
          "base_uri": "https://localhost:8080/",
          "height": 576
        },
        "outputId": "67fa9d13-2365-4caa-bb7d-d7bbf3f12bf5"
      },
      "execution_count": 39,
      "outputs": [
        {
          "output_type": "display_data",
          "data": {
            "text/plain": [
              "<Figure size 600x600 with 1 Axes>"
            ],
            "image/png": "[encoded data removed]"
          },
          "metadata": {}
        }
      ]
    },
    {
      "cell_type": "markdown",
      "source": [
        "## ***scikit-learn***"
      ],
      "metadata": {
        "id": "zcQMA9P0yRRp"
      }
    },
    {
      "cell_type": "code",
      "source": [
        "# 練習 Hint\n",
        "\n",
        "# 匯入填補缺失值的工具\n",
        "from sklearn.impute import SimpleImputer\n",
        "# 匯入 Label Encoder\n",
        "from sklearn.preprocessing import LabelEncoder\n",
        "# 匯入 One-hot Encoder\n",
        "from sklearn.preprocessing import OneHotEncoder\n",
        "# 匯入決策樹模型\n",
        "from sklearn.tree import DecisionTreeClassifier\n",
        "# 匯入準確度計算工具\n",
        "from sklearn.metrics import accuracy_score\n",
        "# 匯入 train_test_split 工具\n",
        "from sklearn.model_selection import train_test_split\n",
        "\n",
        "df_train = pd.read_csv('./data/train.csv')"
      ],
      "metadata": {
        "id": "N5RfLg1lyEB4"
      },
      "execution_count": 40,
      "outputs": []
    },
    {
      "cell_type": "markdown",
      "source": [
        "## ***scikit-learn練習1***\n"
      ],
      "metadata": {
        "id": "1nmiRMZizUB7"
      }
    },
    {
      "cell_type": "code",
      "source": [
        "# 取出訓練資料需要分析的資料欄位\n",
        "df_x = df_train[['Pclass', 'Sex', 'Age', 'Fare', 'Embarked']]\n",
        "# 取出訓練資料的答案\n",
        "df_y = df_train['Survived']"
      ],
      "metadata": {
        "id": "Hwqj0EKX0iQ7"
      },
      "execution_count": 41,
      "outputs": []
    },
    {
      "cell_type": "code",
      "source": [
        "# 數值型態資料前處理\n",
        "# 創造 imputer 並設定填補策略\n",
        "imputer = SimpleImputer(strategy='median')\n",
        "age = df_x['Age'].to_numpy().reshape(-1, 1)\n",
        "# 根據資料學習需要填補的值\n",
        "imputer.fit(age)\n",
        "# 填補缺失值\n",
        "df_x['Age'] = imputer.transform(age)"
      ],
      "metadata": {
        "colab": {
          "base_uri": "https://localhost:8080/"
        },
        "id": "w_qOHg6J_UCd",
        "outputId": "48aa4219-7373-41de-9de0-be312e23f706"
      },
      "execution_count": 42,
      "outputs": [
        {
          "output_type": "stream",
          "name": "stderr",
          "text": [
            "<ipython-input-42-31c538d17406>:8: SettingWithCopyWarning: \n",
            "A value is trying to be set on a copy of a slice from a DataFrame.\n",
            "Try using .loc[row_indexer,col_indexer] = value instead\n",
            "\n",
            "See the caveats in the documentation: https://pandas.pydata.org/pandas-docs/stable/user_guide/indexing.html#returning-a-view-versus-a-copy\n",
            "  df_x['Age'] = imputer.transform(age)\n"
          ]
        }
      ]
    },
    {
      "cell_type": "code",
      "source": [
        "# 類別型態資料前處理\n",
        "# 創造 one-hot Encoder\n",
        "onehot_enc = OneHotEncoder()\n",
        "# 將向量轉換為data frame能接受的格式\n",
        "sex_encoded = onehot_enc.fit_transform(df_x[['Sex']]).toarray()\n",
        "df_sex_encoded = pd.DataFrame(\n",
        "    sex_encoded, columns=['Sex_{}'.format(i) for i in range(sex_encoded.shape[1])]\n",
        ")\n",
        "df_x = pd.concat([df_x, df_sex_encoded], axis=1).drop(columns=['Sex'])\n",
        "\n",
        "df_train['Embarked'] = df_train['Embarked'].fillna('S')\n",
        "# 創造 Label Encoder\n",
        "le = LabelEncoder()\n",
        "# 給予每個類別一個數值\n",
        "le.fit(df_x['Embarked'])\n",
        "# 轉換所有類別成為數值\n",
        "df_x['Embarked'] = le.transform(df_x['Embarked'])"
      ],
      "metadata": {
        "id": "Y6R2OtjF0_wp"
      },
      "execution_count": 43,
      "outputs": []
    },
    {
      "cell_type": "code",
      "source": [
        "# 分割 train and test sets，random_state 固定為 1012\n",
        "train_x, test_x, train_y, test_y = train_test_split(df_x, df_y, train_size=0.8, random_state=1012)\n",
        "\n",
        "# 創造決策樹模型\n",
        "model = DecisionTreeClassifier(\n",
        "    random_state=1012,\n",
        "    criterion='entropy',\n",
        "    max_depth = 3,\n",
        "    max_leaf_nodes = 2 ** 3 )\n",
        "# 訓練決策樹模型\n",
        "model.fit(train_x, train_y)\n",
        "\n",
        "# 確認模型是否訓練成功\n",
        "pred_train = model.predict(train_x)\n",
        "# 計算準確度\n",
        "train_acc = accuracy_score(train_y, pred_train)\n",
        "\n",
        "# 輸出準確度\n",
        "print('train accuracy: {}'.format(train_acc))\n",
        "\n",
        "# 確認模型是否訓練成功\n",
        "pred_test = model.predict(test_x)\n",
        "# 計算準確度\n",
        "test_acc = accuracy_score(test_y, pred_test)\n",
        "\n",
        "# 輸出準確度\n",
        "print('test accuracy: {}'.format(test_acc))\n"
      ],
      "metadata": {
        "colab": {
          "base_uri": "https://localhost:8080/"
        },
        "id": "UShcPU01uGBl",
        "outputId": "7610c2f0-6065-4628-c63c-7aa7f2441636"
      },
      "execution_count": 44,
      "outputs": [
        {
          "output_type": "stream",
          "name": "stdout",
          "text": [
            "train accuracy: 0.8300561797752809\n",
            "test accuracy: 0.8156424581005587\n"
          ]
        }
      ]
    },
    {
      "cell_type": "markdown",
      "source": [
        "## ***scikit-learn練習2***"
      ],
      "metadata": {
        "id": "KenDVrT5zdd2"
      }
    },
    {
      "cell_type": "code",
      "source": [
        "# 取出訓練資料需要分析的資料欄位\n",
        "df_x = df_train[['Sex', 'Age', 'Fare']]\n",
        "# 取出訓練資料的答案\n",
        "df_y = df_train['Survived']\n",
        "\n",
        "# 數值型態資料前處理\n",
        "# 創造 imputer 並設定填補策略\n",
        "imputer = SimpleImputer(strategy='median')\n",
        "age = df_x['Age'].to_numpy().reshape(-1, 1)\n",
        "# 根據資料學習需要填補的值\n",
        "imputer.fit(age)\n",
        "# 填補缺失值\n",
        "df_x['Age'] = imputer.transform(age)\n",
        "\n",
        "# 類別型態資料前處理\n",
        "# 創造 Label Encoder\n",
        "le = LabelEncoder()\n",
        "# 給予每個類別一個數值\n",
        "le.fit(df_x['Sex'])\n",
        "# 轉換所有類別成為數值\n",
        "df_x['Sex'] = le.transform(df_x['Sex'])\n",
        "\n",
        "# 分割 train and test sets，random_state 固定為 1012\n",
        "train_x, test_x, train_y, test_y = train_test_split(df_x, df_y, train_size=0.8, random_state=1012)"
      ],
      "metadata": {
        "colab": {
          "base_uri": "https://localhost:8080/"
        },
        "id": "8VhSQ4o5zhgD",
        "outputId": "dc4329b5-7396-4fbe-ae51-e9427d726953"
      },
      "execution_count": 45,
      "outputs": [
        {
          "output_type": "stream",
          "name": "stderr",
          "text": [
            "<ipython-input-45-f5c2a441d240>:13: SettingWithCopyWarning: \n",
            "A value is trying to be set on a copy of a slice from a DataFrame.\n",
            "Try using .loc[row_indexer,col_indexer] = value instead\n",
            "\n",
            "See the caveats in the documentation: https://pandas.pydata.org/pandas-docs/stable/user_guide/indexing.html#returning-a-view-versus-a-copy\n",
            "  df_x['Age'] = imputer.transform(age)\n",
            "<ipython-input-45-f5c2a441d240>:21: SettingWithCopyWarning: \n",
            "A value is trying to be set on a copy of a slice from a DataFrame.\n",
            "Try using .loc[row_indexer,col_indexer] = value instead\n",
            "\n",
            "See the caveats in the documentation: https://pandas.pydata.org/pandas-docs/stable/user_guide/indexing.html#returning-a-view-versus-a-copy\n",
            "  df_x['Sex'] = le.transform(df_x['Sex'])\n"
          ]
        }
      ]
    },
    {
      "cell_type": "markdown",
      "source": [
        "### **sklearn.naive_bayes**"
      ],
      "metadata": {
        "id": "z-eDjtTveDce"
      }
    },
    {
      "cell_type": "code",
      "source": [
        "from sklearn.naive_bayes import GaussianNB  # For Gaussian Naive Bayes\n",
        "from sklearn.naive_bayes import BernoulliNB  # For Bernoulli Naive Bayes"
      ],
      "metadata": {
        "id": "DcRM_EPsksBb"
      },
      "execution_count": 46,
      "outputs": []
    },
    {
      "cell_type": "code",
      "source": [
        "# 創造模型\n",
        "model = GaussianNB()\n",
        "# 訓練模型\n",
        "model.fit(train_x, train_y)\n",
        "\n",
        "# 確認模型是否訓練成功\n",
        "pred_train = model.predict(train_x)\n",
        "# 計算準確度\n",
        "train_acc = accuracy_score(train_y, pred_train)\n",
        "\n",
        "# 輸出準確度\n",
        "print('train accuracy: {}'.format(train_acc))\n",
        "\n",
        "# 確認模型是否訓練成功\n",
        "pred_test = model.predict(test_x)\n",
        "# 計算準確度\n",
        "test_acc = accuracy_score(test_y, pred_test)\n",
        "\n",
        "# 輸出準確度\n",
        "print('test accuracy: {}'.format(test_acc))"
      ],
      "metadata": {
        "colab": {
          "base_uri": "https://localhost:8080/"
        },
        "id": "Z9ZCazStx2YM",
        "outputId": "d61c1538-e88c-44cf-a9e1-b0828687673b"
      },
      "execution_count": 47,
      "outputs": [
        {
          "output_type": "stream",
          "name": "stdout",
          "text": [
            "train accuracy: 0.7752808988764045\n",
            "test accuracy: 0.8044692737430168\n"
          ]
        }
      ]
    },
    {
      "cell_type": "markdown",
      "source": [
        "### **sklearn.svm(Support Vector Machine)**"
      ],
      "metadata": {
        "id": "mGBSZd54iaUU"
      }
    },
    {
      "cell_type": "code",
      "source": [
        "from sklearn.svm import LinearSVC\n",
        "from sklearn.svm import NuSVC\n",
        "from sklearn.svm import SVC"
      ],
      "metadata": {
        "id": "Y9-wRFGeiRTa"
      },
      "execution_count": 48,
      "outputs": []
    },
    {
      "cell_type": "code",
      "source": [
        "# 創造模型\n",
        "model = SVC(kernel='linear', probability=True)\n",
        "# 訓練模型\n",
        "model.fit(train_x, train_y)\n",
        "\n",
        "# 確認模型是否訓練成功\n",
        "pred_train = model.predict(train_x)\n",
        "# 計算準確度\n",
        "train_acc = accuracy_score(train_y, pred_train)\n",
        "\n",
        "# 輸出準確度\n",
        "print('train accuracy: {}'.format(train_acc))\n",
        "\n",
        "# 確認模型是否訓練成功\n",
        "pred_test = model.predict(test_x)\n",
        "# 計算準確度\n",
        "test_acc = accuracy_score(test_y, pred_test)\n",
        "\n",
        "# 輸出準確度\n",
        "print('test accuracy: {}'.format(test_acc))"
      ],
      "metadata": {
        "colab": {
          "base_uri": "https://localhost:8080/"
        },
        "id": "9X7DzM42jGL3",
        "outputId": "03faa32e-a935-4003-c2ae-eae9f83b5444"
      },
      "execution_count": 49,
      "outputs": [
        {
          "output_type": "stream",
          "name": "stdout",
          "text": [
            "train accuracy: 0.7837078651685393\n",
            "test accuracy: 0.7988826815642458\n"
          ]
        }
      ]
    },
    {
      "cell_type": "markdown",
      "source": [
        "### **sklearn.ensemble**"
      ],
      "metadata": {
        "id": "5DvzSSfFiaSM"
      }
    },
    {
      "cell_type": "code",
      "source": [
        "from sklearn.ensemble import RandomForestClassifier\n",
        "from sklearn.ensemble import ExtraTreesClassifier\n",
        "from sklearn.ensemble import GradientBoostingClassifier\n",
        "from sklearn.ensemble import AdaBoostClassifier"
      ],
      "metadata": {
        "id": "NEoCHR3_cDJ6"
      },
      "execution_count": 50,
      "outputs": []
    },
    {
      "cell_type": "code",
      "source": [
        "# 創造模型\n",
        "model = RandomForestClassifier(\n",
        "      criterion='gini',\n",
        "      n_estimators = 850,\n",
        "      min_samples_split = 11,\n",
        "      min_samples_leaf = 1,\n",
        "      oob_score = True,\n",
        "      random_state = 1,\n",
        "      n_jobs = -1)\n",
        "# model = AdaBoostClassifier()\n",
        "# 訓練模型\n",
        "model.fit(train_x, train_y)\n",
        "\n",
        "# 確認模型是否訓練成功\n",
        "pred_train = model.predict(train_x)\n",
        "# 計算準確度\n",
        "train_acc = accuracy_score(train_y, pred_train)\n",
        "\n",
        "# 輸出準確度\n",
        "print('train accuracy: {}'.format(train_acc))\n",
        "\n",
        "# 確認模型是否訓練成功\n",
        "pred_test = model.predict(test_x)\n",
        "# 計算準確度\n",
        "test_acc = accuracy_score(test_y, pred_test)\n",
        "\n",
        "# 輸出準確度\n",
        "print('test accuracy: {}'.format(test_acc))"
      ],
      "metadata": {
        "colab": {
          "base_uri": "https://localhost:8080/"
        },
        "id": "8Z3PHXwdcasC",
        "outputId": "d5bc6d25-4866-404a-e8b6-42ab870be9fc"
      },
      "execution_count": 51,
      "outputs": [
        {
          "output_type": "stream",
          "name": "stdout",
          "text": [
            "train accuracy: 0.9157303370786517\n",
            "test accuracy: 0.7932960893854749\n"
          ]
        }
      ]
    },
    {
      "cell_type": "markdown",
      "source": [
        "### **sklearn.neural_network**\n"
      ],
      "metadata": {
        "id": "B3DtcddHga-0"
      }
    },
    {
      "cell_type": "code",
      "source": [
        "from sklearn.neural_network import MLPClassifier"
      ],
      "metadata": {
        "id": "O5ZyjYZIJiHA"
      },
      "execution_count": 52,
      "outputs": []
    },
    {
      "cell_type": "code",
      "source": [
        "# 創造模型\n",
        "model = MLPClassifier()\n",
        "# 訓練模型\n",
        "model.fit(train_x, train_y)\n",
        "\n",
        "# 確認模型是否訓練成功\n",
        "pred_train = model.predict(train_x)\n",
        "# 計算準確度\n",
        "train_acc = accuracy_score(train_y, pred_train)\n",
        "\n",
        "# 輸出準確度\n",
        "print('train accuracy: {}'.format(train_acc))\n",
        "\n",
        "# 確認模型是否訓練成功\n",
        "pred_test = model.predict(test_x)\n",
        "# 計算準確度\n",
        "test_acc = accuracy_score(test_y, pred_test)\n",
        "\n",
        "# 輸出準確度\n",
        "print('test accuracy: {}'.format(test_acc))"
      ],
      "metadata": {
        "colab": {
          "base_uri": "https://localhost:8080/"
        },
        "id": "aTGzs3AuJkT-",
        "outputId": "d8d24d4c-115a-4107-ca38-b797efade231"
      },
      "execution_count": 53,
      "outputs": [
        {
          "output_type": "stream",
          "name": "stdout",
          "text": [
            "train accuracy: 0.7907303370786517\n",
            "test accuracy: 0.8100558659217877\n"
          ]
        },
        {
          "output_type": "stream",
          "name": "stderr",
          "text": [
            "/usr/local/lib/python3.10/dist-packages/sklearn/neural_network/_multilayer_perceptron.py:686: ConvergenceWarning: Stochastic Optimizer: Maximum iterations (200) reached and the optimization hasn't converged yet.\n",
            "  warnings.warn(\n"
          ]
        }
      ]
    },
    {
      "cell_type": "markdown",
      "source": [
        "### **sklearn.linear_model**\n"
      ],
      "metadata": {
        "id": "pXEPhMl7rdf8"
      }
    },
    {
      "cell_type": "code",
      "source": [
        "from sklearn.linear_model import SGDClassifier\n",
        "from sklearn.linear_model import LogisticRegression"
      ],
      "metadata": {
        "id": "3I4ugiAZrg6F"
      },
      "execution_count": 54,
      "outputs": []
    },
    {
      "cell_type": "code",
      "source": [
        "# 創造模型\n",
        "model = LogisticRegression()\n",
        "# 訓練模型\n",
        "model.fit(train_x, train_y)\n",
        "\n",
        "# 確認模型是否訓練成功\n",
        "pred_train = model.predict(train_x)\n",
        "# 計算準確度\n",
        "train_acc = accuracy_score(train_y, pred_train)\n",
        "\n",
        "# 輸出準確度\n",
        "print('train accuracy: {}'.format(train_acc))\n",
        "\n",
        "# 確認模型是否訓練成功\n",
        "pred_test = model.predict(test_x)\n",
        "# 計算準確度\n",
        "test_acc = accuracy_score(test_y, pred_test)\n",
        "\n",
        "# 輸出準確度\n",
        "print('test accuracy: {}'.format(test_acc))"
      ],
      "metadata": {
        "colab": {
          "base_uri": "https://localhost:8080/"
        },
        "id": "tgnKKFrCrgpy",
        "outputId": "e6e2283e-972c-49be-8a60-6738fd7f0ccf"
      },
      "execution_count": 55,
      "outputs": [
        {
          "output_type": "stream",
          "name": "stdout",
          "text": [
            "train accuracy: 0.7780898876404494\n",
            "test accuracy: 0.8044692737430168\n"
          ]
        }
      ]
    }
  ]
}